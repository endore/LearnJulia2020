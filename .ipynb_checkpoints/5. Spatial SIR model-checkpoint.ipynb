{
 "cells": [
  {
   "cell_type": "markdown",
   "metadata": {},
   "source": [
    "# 5. Spatial SIR model"
   ]
  },
  {
   "cell_type": "markdown",
   "metadata": {},
   "source": [
    "We are now ready to build the spatial model. It will consist of walkers moving in a 2D box."
   ]
  },
  {
   "cell_type": "markdown",
   "metadata": {},
   "source": [
    "## Confinement inside a box"
   ]
  },
  {
   "cell_type": "markdown",
   "metadata": {},
   "source": [
    "We need the agents to live inside a box so that they don't disperse."
   ]
  },
  {
   "cell_type": "markdown",
   "metadata": {},
   "source": [
    "#### Exercise\n",
    "\n",
    "1. Make a `ConfinedWalker2D` type. Its fields are a `Walker2D` object and a box size, `L`. \n",
    "\n",
    "\n",
    "2. Extend `move` to `ConfinedWalker2D`. If the walker tries to jump outside the box, i.e. outside the sites 1 to $L$, in either direction, then it remains where it is.\n",
    "\n",
    "\n",
    "3. Make a confined `Agent` and calculate and draw its trajectory to make sure it stays inside the box."
   ]
  },
  {
   "cell_type": "code",
   "execution_count": 3,
   "metadata": {},
   "outputs": [],
   "source": [
    "abstract type AbstractWalker2D end\n",
    "\n",
    "struct SimpleWalker2D <: AbstractWalker2D\n",
    "    x::Int64\n",
    "    y::Int64\n",
    "end\n",
    "\n",
    "struct ConfinedWalker2D <: AbstractWalker2D\n",
    "    walker::SimpleWalker2D\n",
    "    L::UInt\n",
    "end"
   ]
  },
  {
   "cell_type": "code",
   "execution_count": 19,
   "metadata": {},
   "outputs": [
    {
     "data": {
      "text/plain": [
       "rand_jump (generic function with 1 method)"
      ]
     },
     "execution_count": 19,
     "metadata": {},
     "output_type": "execute_result"
    }
   ],
   "source": [
    "rand_jump() = rand((-1,1))"
   ]
  },
  {
   "cell_type": "code",
   "execution_count": 74,
   "metadata": {},
   "outputs": [
    {
     "data": {
      "text/plain": [
       "move (generic function with 2 methods)"
      ]
     },
     "execution_count": 74,
     "metadata": {},
     "output_type": "execute_result"
    }
   ],
   "source": [
    "function move(w::ConfinedWalker2D)\n",
    "    new_x = w.walker.x + rand_jump()\n",
    "    new_y = w.walker.y + rand_jump()\n",
    "    \n",
    "    if (new_y < 1) | (new_y > w.L)\n",
    "        new_y = w.walker.y\n",
    "    end\n",
    "\n",
    "    if (new_x < 1) | (new_x > w.L)\n",
    "        new_x = w.walker.x\n",
    "    end\n",
    "    \n",
    "    newSimpleWalker = SimpleWalker2D(new_x,new_y)\n",
    "    \n",
    "    return ConfinedWalker2D(newSimpleWalker,L)\n",
    "end"
   ]
  },
  {
   "cell_type": "code",
   "execution_count": 83,
   "metadata": {},
   "outputs": [
    {
     "data": {
      "text/plain": [
       "ConfinedWalker2D(SimpleWalker2D(10, 8), 0x000000000000000a)"
      ]
     },
     "execution_count": 83,
     "metadata": {},
     "output_type": "execute_result"
    }
   ],
   "source": [
    "move(ConfinedWalker2D(SimpleWalker2D(9,9),10))"
   ]
  },
  {
   "cell_type": "code",
   "execution_count": 45,
   "metadata": {},
   "outputs": [
    {
     "data": {
      "text/plain": [
       "move (generic function with 2 methods)"
      ]
     },
     "execution_count": 45,
     "metadata": {},
     "output_type": "execute_result"
    }
   ],
   "source": [
    "@enum InfectionStatus S=1 I R\n",
    "\n",
    "struct Agent{P}\n",
    "    walker::P\n",
    "    status::InfectionStatus\n",
    "end\n",
    "\n",
    "move(a) = Agent(move(a.walker),a.status)"
   ]
  },
  {
   "cell_type": "code",
   "execution_count": 72,
   "metadata": {},
   "outputs": [
    {
     "data": {
      "text/plain": [
       "Agent{ConfinedWalker2D}(ConfinedWalker2D(SimpleWalker2D(9, 8), 0x000000000000000a), S)"
      ]
     },
     "execution_count": 72,
     "metadata": {},
     "output_type": "execute_result"
    }
   ],
   "source": [
    "move(Agent(ConfinedWalker2D(SimpleWalker2D(9,9),10),S))"
   ]
  },
  {
   "cell_type": "code",
   "execution_count": 73,
   "metadata": {},
   "outputs": [
    {
     "data": {
      "text/plain": [
       "walk"
      ]
     },
     "execution_count": 73,
     "metadata": {},
     "output_type": "execute_result"
    }
   ],
   "source": [
    "\"Calculate the trajectory of a walker `w` for time `T`.\"\n",
    "function walk(w, T)\n",
    "    \n",
    "    trajectory = [w]   # store the current (initial) position of `w`\n",
    "    \n",
    "    for t in 1:T\n",
    "        w = move(w)    # update the value bound to `w`\n",
    "        push!(trajectory, deepcopy(w))   # store the current value\n",
    "    end\n",
    "    \n",
    "    return trajectory\n",
    "end"
   ]
  },
  {
   "cell_type": "code",
   "execution_count": 125,
   "metadata": {},
   "outputs": [
    {
     "data": {
      "image/svg+xml": [
       "<?xml version=\"1.0\" encoding=\"utf-8\"?>\n",
       "<svg xmlns=\"http://www.w3.org/2000/svg\" xmlns:xlink=\"http://www.w3.org/1999/xlink\" width=\"600\" height=\"400\" viewBox=\"0 0 2400 1600\">\n",
       "<defs>\n",
       "  <clipPath id=\"clip570\">\n",
       "    <rect x=\"0\" y=\"0\" width=\"2400\" height=\"1600\"/>\n",
       "  </clipPath>\n",
       "</defs>\n",
       "<path clip-path=\"url(#clip570)\" d=\"\n",
       "M0 1600 L2400 1600 L2400 0 L0 0  Z\n",
       "  \" fill=\"#ffffff\" fill-rule=\"evenodd\" fill-opacity=\"1\"/>\n",
       "<defs>\n",
       "  <clipPath id=\"clip571\">\n",
       "    <rect x=\"480\" y=\"0\" width=\"1681\" height=\"1600\"/>\n",
       "  </clipPath>\n",
       "</defs>\n",
       "<path clip-path=\"url(#clip570)\" d=\"\n",
       "M134.584 1486.45 L2352.76 1486.45 L2352.76 47.2441 L134.584 47.2441  Z\n",
       "  \" fill=\"#ffffff\" fill-rule=\"evenodd\" fill-opacity=\"1\"/>\n",
       "<defs>\n",
       "  <clipPath id=\"clip572\">\n",
       "    <rect x=\"134\" y=\"47\" width=\"2219\" height=\"1440\"/>\n",
       "  </clipPath>\n",
       "</defs>\n",
       "<polyline clip-path=\"url(#clip572)\" style=\"stroke:#000000; stroke-width:2; stroke-opacity:0.1; fill:none\" points=\"\n",
       "  381.048,1486.45 381.048,47.2441 \n",
       "  \"/>\n",
       "<polyline clip-path=\"url(#clip572)\" style=\"stroke:#000000; stroke-width:2; stroke-opacity:0.1; fill:none\" points=\"\n",
       "  873.975,1486.45 873.975,47.2441 \n",
       "  \"/>\n",
       "<polyline clip-path=\"url(#clip572)\" style=\"stroke:#000000; stroke-width:2; stroke-opacity:0.1; fill:none\" points=\"\n",
       "  1366.9,1486.45 1366.9,47.2441 \n",
       "  \"/>\n",
       "<polyline clip-path=\"url(#clip572)\" style=\"stroke:#000000; stroke-width:2; stroke-opacity:0.1; fill:none\" points=\"\n",
       "  1859.83,1486.45 1859.83,47.2441 \n",
       "  \"/>\n",
       "<polyline clip-path=\"url(#clip572)\" style=\"stroke:#000000; stroke-width:2; stroke-opacity:0.1; fill:none\" points=\"\n",
       "  2352.76,1486.45 2352.76,47.2441 \n",
       "  \"/>\n",
       "<polyline clip-path=\"url(#clip572)\" style=\"stroke:#000000; stroke-width:2; stroke-opacity:0.1; fill:none\" points=\"\n",
       "  134.584,1326.54 2352.76,1326.54 \n",
       "  \"/>\n",
       "<polyline clip-path=\"url(#clip572)\" style=\"stroke:#000000; stroke-width:2; stroke-opacity:0.1; fill:none\" points=\"\n",
       "  134.584,1006.71 2352.76,1006.71 \n",
       "  \"/>\n",
       "<polyline clip-path=\"url(#clip572)\" style=\"stroke:#000000; stroke-width:2; stroke-opacity:0.1; fill:none\" points=\"\n",
       "  134.584,686.89 2352.76,686.89 \n",
       "  \"/>\n",
       "<polyline clip-path=\"url(#clip572)\" style=\"stroke:#000000; stroke-width:2; stroke-opacity:0.1; fill:none\" points=\"\n",
       "  134.584,367.067 2352.76,367.067 \n",
       "  \"/>\n",
       "<polyline clip-path=\"url(#clip572)\" style=\"stroke:#000000; stroke-width:2; stroke-opacity:0.1; fill:none\" points=\"\n",
       "  134.584,47.2441 2352.76,47.2441 \n",
       "  \"/>\n",
       "<polyline clip-path=\"url(#clip570)\" style=\"stroke:#000000; stroke-width:4; stroke-opacity:1; fill:none\" points=\"\n",
       "  134.584,1486.45 2352.76,1486.45 \n",
       "  \"/>\n",
       "<polyline clip-path=\"url(#clip570)\" style=\"stroke:#000000; stroke-width:4; stroke-opacity:1; fill:none\" points=\"\n",
       "  134.584,1486.45 134.584,47.2441 \n",
       "  \"/>\n",
       "<polyline clip-path=\"url(#clip570)\" style=\"stroke:#000000; stroke-width:4; stroke-opacity:1; fill:none\" points=\"\n",
       "  381.048,1486.45 381.048,1469.18 \n",
       "  \"/>\n",
       "<polyline clip-path=\"url(#clip570)\" style=\"stroke:#000000; stroke-width:4; stroke-opacity:1; fill:none\" points=\"\n",
       "  873.975,1486.45 873.975,1469.18 \n",
       "  \"/>\n",
       "<polyline clip-path=\"url(#clip570)\" style=\"stroke:#000000; stroke-width:4; stroke-opacity:1; fill:none\" points=\"\n",
       "  1366.9,1486.45 1366.9,1469.18 \n",
       "  \"/>\n",
       "<polyline clip-path=\"url(#clip570)\" style=\"stroke:#000000; stroke-width:4; stroke-opacity:1; fill:none\" points=\"\n",
       "  1859.83,1486.45 1859.83,1469.18 \n",
       "  \"/>\n",
       "<polyline clip-path=\"url(#clip570)\" style=\"stroke:#000000; stroke-width:4; stroke-opacity:1; fill:none\" points=\"\n",
       "  2352.76,1486.45 2352.76,1469.18 \n",
       "  \"/>\n",
       "<polyline clip-path=\"url(#clip570)\" style=\"stroke:#000000; stroke-width:4; stroke-opacity:1; fill:none\" points=\"\n",
       "  134.584,1326.54 161.203,1326.54 \n",
       "  \"/>\n",
       "<polyline clip-path=\"url(#clip570)\" style=\"stroke:#000000; stroke-width:4; stroke-opacity:1; fill:none\" points=\"\n",
       "  134.584,1006.71 161.203,1006.71 \n",
       "  \"/>\n",
       "<polyline clip-path=\"url(#clip570)\" style=\"stroke:#000000; stroke-width:4; stroke-opacity:1; fill:none\" points=\"\n",
       "  134.584,686.89 161.203,686.89 \n",
       "  \"/>\n",
       "<polyline clip-path=\"url(#clip570)\" style=\"stroke:#000000; stroke-width:4; stroke-opacity:1; fill:none\" points=\"\n",
       "  134.584,367.067 161.203,367.067 \n",
       "  \"/>\n",
       "<polyline clip-path=\"url(#clip570)\" style=\"stroke:#000000; stroke-width:4; stroke-opacity:1; fill:none\" points=\"\n",
       "  134.584,47.2441 161.203,47.2441 \n",
       "  \"/>\n",
       "<path clip-path=\"url(#clip570)\" d=\"M 0 0 M375.701 1535.98 L392.02 1535.98 L392.02 1539.92 L370.076 1539.92 L370.076 1535.98 Q372.738 1533.23 377.321 1528.6 Q381.928 1523.95 383.108 1522.61 Q385.353 1520.08 386.233 1518.35 Q387.136 1516.59 387.136 1514.9 Q387.136 1512.14 385.191 1510.41 Q383.27 1508.67 380.168 1508.67 Q377.969 1508.67 375.516 1509.43 Q373.085 1510.2 370.307 1511.75 L370.307 1507.03 Q373.131 1505.89 375.585 1505.31 Q378.039 1504.73 380.076 1504.73 Q385.446 1504.73 388.641 1507.42 Q391.835 1510.11 391.835 1514.6 Q391.835 1516.73 391.025 1518.65 Q390.238 1520.54 388.131 1523.14 Q387.553 1523.81 384.451 1527.03 Q381.349 1530.22 375.701 1535.98 Z\" fill=\"#000000\" fill-rule=\"evenodd\" fill-opacity=\"1\" /><path clip-path=\"url(#clip570)\" d=\"M 0 0 M876.984 1509.43 L865.179 1527.88 L876.984 1527.88 L876.984 1509.43 M875.757 1505.36 L881.637 1505.36 L881.637 1527.88 L886.567 1527.88 L886.567 1531.77 L881.637 1531.77 L881.637 1539.92 L876.984 1539.92 L876.984 1531.77 L861.382 1531.77 L861.382 1527.26 L875.757 1505.36 Z\" fill=\"#000000\" fill-rule=\"evenodd\" fill-opacity=\"1\" /><path clip-path=\"url(#clip570)\" d=\"M 0 0 M1367.31 1520.78 Q1364.16 1520.78 1362.31 1522.93 Q1360.48 1525.08 1360.48 1528.83 Q1360.48 1532.56 1362.31 1534.73 Q1364.16 1536.89 1367.31 1536.89 Q1370.46 1536.89 1372.28 1534.73 Q1374.14 1532.56 1374.14 1528.83 Q1374.14 1525.08 1372.28 1522.93 Q1370.46 1520.78 1367.31 1520.78 M1376.59 1506.12 L1376.59 1510.38 Q1374.83 1509.55 1373.02 1509.11 Q1371.24 1508.67 1369.48 1508.67 Q1364.85 1508.67 1362.4 1511.8 Q1359.97 1514.92 1359.62 1521.24 Q1360.99 1519.23 1363.05 1518.16 Q1365.11 1517.07 1367.58 1517.07 Q1372.79 1517.07 1375.8 1520.24 Q1378.83 1523.39 1378.83 1528.83 Q1378.83 1534.16 1375.69 1537.37 Q1372.54 1540.59 1367.31 1540.59 Q1361.31 1540.59 1358.14 1536.01 Q1354.97 1531.4 1354.97 1522.67 Q1354.97 1514.48 1358.86 1509.62 Q1362.75 1504.73 1369.3 1504.73 Q1371.06 1504.73 1372.84 1505.08 Q1374.64 1505.43 1376.59 1506.12 Z\" fill=\"#000000\" fill-rule=\"evenodd\" fill-opacity=\"1\" /><path clip-path=\"url(#clip570)\" d=\"M 0 0 M1859.83 1523.51 Q1856.5 1523.51 1854.57 1525.29 Q1852.68 1527.07 1852.68 1530.2 Q1852.68 1533.32 1854.57 1535.11 Q1856.5 1536.89 1859.83 1536.89 Q1863.16 1536.89 1865.08 1535.11 Q1867 1533.3 1867 1530.2 Q1867 1527.07 1865.08 1525.29 Q1863.19 1523.51 1859.83 1523.51 M1855.15 1521.52 Q1852.14 1520.78 1850.45 1518.72 Q1848.79 1516.66 1848.79 1513.69 Q1848.79 1509.55 1851.73 1507.14 Q1854.69 1504.73 1859.83 1504.73 Q1864.99 1504.73 1867.93 1507.14 Q1870.87 1509.55 1870.87 1513.69 Q1870.87 1516.66 1869.18 1518.72 Q1867.51 1520.78 1864.53 1521.52 Q1867.91 1522.3 1869.78 1524.6 Q1871.68 1526.89 1871.68 1530.2 Q1871.68 1535.22 1868.6 1537.91 Q1865.55 1540.59 1859.83 1540.59 Q1854.11 1540.59 1851.03 1537.91 Q1847.98 1535.22 1847.98 1530.2 Q1847.98 1526.89 1849.88 1524.6 Q1851.77 1522.3 1855.15 1521.52 M1853.44 1514.13 Q1853.44 1516.82 1855.11 1518.32 Q1856.8 1519.83 1859.83 1519.83 Q1862.84 1519.83 1864.53 1518.32 Q1866.24 1516.82 1866.24 1514.13 Q1866.24 1511.45 1864.53 1509.94 Q1862.84 1508.44 1859.83 1508.44 Q1856.8 1508.44 1855.11 1509.94 Q1853.44 1511.45 1853.44 1514.13 Z\" fill=\"#000000\" fill-rule=\"evenodd\" fill-opacity=\"1\" /><path clip-path=\"url(#clip570)\" d=\"M 0 0 M2329.63 1535.98 L2337.27 1535.98 L2337.27 1509.62 L2328.96 1511.29 L2328.96 1507.03 L2337.22 1505.36 L2341.9 1505.36 L2341.9 1535.98 L2349.54 1535.98 L2349.54 1539.92 L2329.63 1539.92 L2329.63 1535.98 Z\" fill=\"#000000\" fill-rule=\"evenodd\" fill-opacity=\"1\" /><path clip-path=\"url(#clip570)\" d=\"M 0 0 M2364.61 1508.44 Q2361 1508.44 2359.17 1512 Q2357.36 1515.55 2357.36 1522.67 Q2357.36 1529.78 2359.17 1533.35 Q2361 1536.89 2364.61 1536.89 Q2368.24 1536.89 2370.05 1533.35 Q2371.88 1529.78 2371.88 1522.67 Q2371.88 1515.55 2370.05 1512 Q2368.24 1508.44 2364.61 1508.44 M2364.61 1504.73 Q2370.42 1504.73 2373.47 1509.34 Q2376.55 1513.92 2376.55 1522.67 Q2376.55 1531.4 2373.47 1536.01 Q2370.42 1540.59 2364.61 1540.59 Q2358.8 1540.59 2355.72 1536.01 Q2352.66 1531.4 2352.66 1522.67 Q2352.66 1513.92 2355.72 1509.34 Q2358.8 1504.73 2364.61 1504.73 Z\" fill=\"#000000\" fill-rule=\"evenodd\" fill-opacity=\"1\" /><path clip-path=\"url(#clip570)\" d=\"M 0 0 M94.2651 1339.88 L110.584 1339.88 L110.584 1343.82 L88.6401 1343.82 L88.6401 1339.88 Q91.3022 1337.13 95.8855 1332.5 Q100.492 1327.84 101.672 1326.5 Q103.918 1323.98 104.797 1322.24 Q105.7 1320.48 105.7 1318.79 Q105.7 1316.04 103.756 1314.3 Q101.835 1312.57 98.7327 1312.57 Q96.5336 1312.57 94.0799 1313.33 Q91.6494 1314.09 88.8716 1315.65 L88.8716 1310.92 Q91.6957 1309.79 94.1494 1309.21 Q96.6031 1308.63 98.6401 1308.63 Q104.01 1308.63 107.205 1311.32 Q110.399 1314 110.399 1318.49 Q110.399 1320.62 109.589 1322.54 Q108.802 1324.44 106.696 1327.03 Q106.117 1327.71 103.015 1330.92 Q99.9132 1334.12 94.2651 1339.88 Z\" fill=\"#000000\" fill-rule=\"evenodd\" fill-opacity=\"1\" /><path clip-path=\"url(#clip570)\" d=\"M 0 0 M101.001 993.507 L89.1957 1011.96 L101.001 1011.96 L101.001 993.507 M99.7743 989.433 L105.654 989.433 L105.654 1011.96 L110.584 1011.96 L110.584 1015.85 L105.654 1015.85 L105.654 1023.99 L101.001 1023.99 L101.001 1015.85 L85.3994 1015.85 L85.3994 1011.33 L99.7743 989.433 Z\" fill=\"#000000\" fill-rule=\"evenodd\" fill-opacity=\"1\" /><path clip-path=\"url(#clip570)\" d=\"M 0 0 M99.0567 685.027 Q95.9086 685.027 94.0568 687.18 Q92.2281 689.332 92.2281 693.082 Q92.2281 696.809 94.0568 698.985 Q95.9086 701.138 99.0567 701.138 Q102.205 701.138 104.034 698.985 Q105.885 696.809 105.885 693.082 Q105.885 689.332 104.034 687.18 Q102.205 685.027 99.0567 685.027 M108.339 670.374 L108.339 674.633 Q106.58 673.8 104.774 673.36 Q102.992 672.92 101.233 672.92 Q96.6031 672.92 94.1494 676.045 Q91.7188 679.17 91.3716 685.49 Q92.7373 683.476 94.7975 682.411 Q96.8577 681.323 99.3345 681.323 Q104.543 681.323 107.552 684.494 Q110.584 687.643 110.584 693.082 Q110.584 698.406 107.436 701.624 Q104.288 704.842 99.0567 704.842 Q93.0614 704.842 89.8901 700.258 Q86.7189 695.652 86.7189 686.925 Q86.7189 678.731 90.6077 673.869 Q94.4966 668.985 101.047 668.985 Q102.807 668.985 104.589 669.332 Q106.395 669.68 108.339 670.374 Z\" fill=\"#000000\" fill-rule=\"evenodd\" fill-opacity=\"1\" /><path clip-path=\"url(#clip570)\" d=\"M 0 0 M98.7327 367.935 Q95.3994 367.935 93.4781 369.718 Q91.5799 371.5 91.5799 374.625 Q91.5799 377.75 93.4781 379.532 Q95.3994 381.315 98.7327 381.315 Q102.066 381.315 103.987 379.532 Q105.909 377.727 105.909 374.625 Q105.909 371.5 103.987 369.718 Q102.089 367.935 98.7327 367.935 M94.0568 365.944 Q91.0475 365.204 89.3577 363.144 Q87.6911 361.083 87.6911 358.12 Q87.6911 353.977 90.6309 351.57 Q93.5938 349.162 98.7327 349.162 Q103.895 349.162 106.834 351.57 Q109.774 353.977 109.774 358.12 Q109.774 361.083 108.084 363.144 Q106.418 365.204 103.432 365.944 Q106.811 366.732 108.686 369.023 Q110.584 371.315 110.584 374.625 Q110.584 379.648 107.506 382.333 Q104.45 385.018 98.7327 385.018 Q93.0151 385.018 89.9364 382.333 Q86.8809 379.648 86.8809 374.625 Q86.8809 371.315 88.779 369.023 Q90.6772 366.732 94.0568 365.944 M92.3438 358.56 Q92.3438 361.245 94.0105 362.75 Q95.7003 364.255 98.7327 364.255 Q101.742 364.255 103.432 362.75 Q105.145 361.245 105.145 358.56 Q105.145 355.875 103.432 354.37 Q101.742 352.866 98.7327 352.866 Q95.7003 352.866 94.0105 354.37 Q92.3438 355.875 92.3438 358.56 Z\" fill=\"#000000\" fill-rule=\"evenodd\" fill-opacity=\"1\" /><path clip-path=\"url(#clip570)\" d=\"M 0 0 M63.6634 60.5889 L71.3023 60.5889 L71.3023 34.2233 L62.9921 35.89 L62.9921 31.6308 L71.256 29.9641 L75.9319 29.9641 L75.9319 60.5889 L83.5707 60.5889 L83.5707 64.5241 L63.6634 64.5241 L63.6634 60.5889 Z\" fill=\"#000000\" fill-rule=\"evenodd\" fill-opacity=\"1\" /><path clip-path=\"url(#clip570)\" d=\"M 0 0 M98.6401 33.0428 Q95.029 33.0428 93.2003 36.6076 Q91.3948 40.1492 91.3948 47.2788 Q91.3948 54.3853 93.2003 57.9501 Q95.029 61.4917 98.6401 61.4917 Q102.274 61.4917 104.08 57.9501 Q105.909 54.3853 105.909 47.2788 Q105.909 40.1492 104.08 36.6076 Q102.274 33.0428 98.6401 33.0428 M98.6401 29.3391 Q104.45 29.3391 107.506 33.9456 Q110.584 38.5289 110.584 47.2788 Q110.584 56.0056 107.506 60.6121 Q104.45 65.1954 98.6401 65.1954 Q92.8299 65.1954 89.7512 60.6121 Q86.6957 56.0056 86.6957 47.2788 Q86.6957 38.5289 89.7512 33.9456 Q92.8299 29.3391 98.6401 29.3391 Z\" fill=\"#000000\" fill-rule=\"evenodd\" fill-opacity=\"1\" /><circle clip-path=\"url(#clip572)\" cx=\"1120.44\" cy=\"846.802\" r=\"14\" fill=\"#009af9\" fill-rule=\"evenodd\" fill-opacity=\"1\" stroke=\"#000000\" stroke-opacity=\"1\" stroke-width=\"3.2\"/>\n",
       "<circle clip-path=\"url(#clip572)\" cx=\"873.975\" cy=\"686.89\" r=\"14\" fill=\"#009af9\" fill-rule=\"evenodd\" fill-opacity=\"1\" stroke=\"#000000\" stroke-opacity=\"1\" stroke-width=\"3.2\"/>\n",
       "<circle clip-path=\"url(#clip572)\" cx=\"1120.44\" cy=\"846.802\" r=\"14\" fill=\"#009af9\" fill-rule=\"evenodd\" fill-opacity=\"1\" stroke=\"#000000\" stroke-opacity=\"1\" stroke-width=\"3.2\"/>\n",
       "<circle clip-path=\"url(#clip572)\" cx=\"1366.9\" cy=\"1006.71\" r=\"14\" fill=\"#009af9\" fill-rule=\"evenodd\" fill-opacity=\"1\" stroke=\"#000000\" stroke-opacity=\"1\" stroke-width=\"3.2\"/>\n",
       "<circle clip-path=\"url(#clip572)\" cx=\"1120.44\" cy=\"846.802\" r=\"14\" fill=\"#009af9\" fill-rule=\"evenodd\" fill-opacity=\"1\" stroke=\"#000000\" stroke-opacity=\"1\" stroke-width=\"3.2\"/>\n",
       "<circle clip-path=\"url(#clip572)\" cx=\"873.975\" cy=\"1006.71\" r=\"14\" fill=\"#009af9\" fill-rule=\"evenodd\" fill-opacity=\"1\" stroke=\"#000000\" stroke-opacity=\"1\" stroke-width=\"3.2\"/>\n",
       "<circle clip-path=\"url(#clip572)\" cx=\"1120.44\" cy=\"846.802\" r=\"14\" fill=\"#009af9\" fill-rule=\"evenodd\" fill-opacity=\"1\" stroke=\"#000000\" stroke-opacity=\"1\" stroke-width=\"3.2\"/>\n",
       "<circle clip-path=\"url(#clip572)\" cx=\"873.975\" cy=\"1006.71\" r=\"14\" fill=\"#009af9\" fill-rule=\"evenodd\" fill-opacity=\"1\" stroke=\"#000000\" stroke-opacity=\"1\" stroke-width=\"3.2\"/>\n",
       "<circle clip-path=\"url(#clip572)\" cx=\"1120.44\" cy=\"846.802\" r=\"14\" fill=\"#009af9\" fill-rule=\"evenodd\" fill-opacity=\"1\" stroke=\"#000000\" stroke-opacity=\"1\" stroke-width=\"3.2\"/>\n",
       "<circle clip-path=\"url(#clip572)\" cx=\"873.975\" cy=\"1006.71\" r=\"14\" fill=\"#009af9\" fill-rule=\"evenodd\" fill-opacity=\"1\" stroke=\"#000000\" stroke-opacity=\"1\" stroke-width=\"3.2\"/>\n",
       "<circle clip-path=\"url(#clip572)\" cx=\"627.511\" cy=\"1166.62\" r=\"14\" fill=\"#009af9\" fill-rule=\"evenodd\" fill-opacity=\"1\" stroke=\"#000000\" stroke-opacity=\"1\" stroke-width=\"3.2\"/>\n",
       "<path clip-path=\"url(#clip570)\" d=\"\n",
       "M1989.74 251.724 L2280.76 251.724 L2280.76 130.764 L1989.74 130.764  Z\n",
       "  \" fill=\"#ffffff\" fill-rule=\"evenodd\" fill-opacity=\"1\"/>\n",
       "<polyline clip-path=\"url(#clip570)\" style=\"stroke:#000000; stroke-width:4; stroke-opacity:1; fill:none\" points=\"\n",
       "  1989.74,251.724 2280.76,251.724 2280.76,130.764 1989.74,130.764 1989.74,251.724 \n",
       "  \"/>\n",
       "<circle clip-path=\"url(#clip570)\" cx=\"2097.74\" cy=\"191.244\" r=\"23\" fill=\"#009af9\" fill-rule=\"evenodd\" fill-opacity=\"1\" stroke=\"#000000\" stroke-opacity=\"1\" stroke-width=\"5.12\"/>\n",
       "<path clip-path=\"url(#clip570)\" d=\"M 0 0 M2195.58 210.931 Q2193.77 215.561 2192.06 216.973 Q2190.35 218.385 2187.48 218.385 L2184.08 218.385 L2184.08 214.82 L2186.58 214.82 Q2188.33 214.82 2189.31 213.987 Q2190.28 213.154 2191.46 210.052 L2192.22 208.107 L2181.74 182.598 L2186.25 182.598 L2194.35 202.876 L2202.46 182.598 L2206.97 182.598 L2195.58 210.931 Z\" fill=\"#000000\" fill-rule=\"evenodd\" fill-opacity=\"1\" /><path clip-path=\"url(#clip570)\" d=\"M 0 0 M2212.85 204.589 L2220.49 204.589 L2220.49 178.223 L2212.18 179.89 L2212.18 175.631 L2220.44 173.964 L2225.12 173.964 L2225.12 204.589 L2232.76 204.589 L2232.76 208.524 L2212.85 208.524 L2212.85 204.589 Z\" fill=\"#000000\" fill-rule=\"evenodd\" fill-opacity=\"1\" /></svg>\n"
      ]
     },
     "execution_count": 125,
     "metadata": {},
     "output_type": "execute_result"
    }
   ],
   "source": [
    "using Plots\n",
    "\n",
    "T = 10\n",
    "x_init = 5\n",
    "y_init = 5\n",
    "L = 10\n",
    "status_init = S\n",
    "\n",
    "walker_init = SimpleWalker2D(x_init,y_init)\n",
    "conf_walker_init = ConfinedWalker2D(walker_init,L)\n",
    "agent_init = Agent(conf_walker_init,status_init)\n",
    "\n",
    "walk_traj = walk(agent_init,T)\n",
    "\n",
    "scatter([a.walker.walker.x for a in walk_traj],[a.walker.walker.y for a in walk_traj], xlim = (1,L), ylim = (1,L))"
   ]
  },
  {
   "cell_type": "markdown",
   "metadata": {},
   "source": [
    "## Initialization"
   ]
  },
  {
   "cell_type": "markdown",
   "metadata": {},
   "source": [
    "For simplicity we will impose in our model that there is at most one agent on each site at all times (i.e. there is \"hard-core exclusion\"). This models the fact that two people cannot be in the same place at the same time."
   ]
  },
  {
   "cell_type": "markdown",
   "metadata": {},
   "source": [
    "#### Exercise"
   ]
  },
  {
   "cell_type": "markdown",
   "metadata": {},
   "source": [
    "1. Write a function `initialize` that takes parameters 𝐿, the box length, and 𝑁, the number of agents.\n",
    "It builds, one by one, a `Vector` of agents, by proposing a position for each one and checking if that position is already occupied. If it is occupied, it should generate another one, and so on until it finds a free spot.\n",
    "All of the agents should have state `S`, except for one infectious individual (`I`).\n",
    "\n",
    "    To do this you should write a function `check_occupied` that checks if a particular position is occupied."
   ]
  },
  {
   "cell_type": "markdown",
   "metadata": {},
   "source": [
    "2. Write a function `visualize_agents` that takes in a collection of agents as argument. It should plot a point for each agent, coloured according to its status.\n",
    "\n",
    "    Hint: You can use the keyword argument `c=cs` inside your call to the plotting function to set the colours of points to a vector of integers called `cs`. Don’t forget to use `ratio=1`."
   ]
  },
  {
   "cell_type": "markdown",
   "metadata": {},
   "source": [
    "3. Run these functions to visualize the initial condition."
   ]
  },
  {
   "cell_type": "markdown",
   "metadata": {},
   "source": [
    "## Dynamics"
   ]
  },
  {
   "cell_type": "markdown",
   "metadata": {},
   "source": [
    "The dynamics has parameters $p_I$ and $p_R$, the probabilities of infection and recovery at each time step, respectively.\n"
   ]
  },
  {
   "cell_type": "markdown",
   "metadata": {},
   "source": [
    "#### Exercise\n",
    "\n",
    "1. Make an immutable `struct` `SIRSimulation` containing fields `L`, `p_I`, `p_R` and a `Vector` `agents` of `Agent`s. "
   ]
  },
  {
   "cell_type": "markdown",
   "metadata": {},
   "source": [
    "Since we will have many `Agent`s, stored in a `Vector`, we do not want to recreate the whole simulation at each time step. Instead we will now *modify* (*mutate*) the data structure, so our functions will now have `!` at the end of their names.\n",
    "\n",
    "Nonetheless, we can still use an *immutable* `struct`, since the only things we will modify are inside the `Vector`. That is, we will never reassign the fields of the `struct` itself."
   ]
  },
  {
   "cell_type": "markdown",
   "metadata": {},
   "source": [
    "2. Write a function `step!` that does one step of the dynamics of the model. The rules are as follows:\n",
    "\n",
    "    1. Choose a single agent at random; call it $i$.\n",
    "    \n",
    "    2. Propose a new position for that agent.\n",
    "\n",
    "    3. If that new position is not occupied, move agent $i$ there.\n",
    "\n",
    "    4. If the new position *is* occupied, by agent $j$, then *neither* of them move, but they interact as follows:\n",
    "\n",
    "        - If agent $i$ is infected and agent $j$ is susceptible then agent $j$ gets infected with probability $p_I$.\n",
    "\n",
    "    5. If  agent $i$ is infected, it recovers with probability $p_R$.\n",
    "    \n",
    "  You should write helper functions when necessary."
   ]
  },
  {
   "cell_type": "markdown",
   "metadata": {},
   "source": [
    "3. Make an interactive visualization to display the agents after each step, to check visually that the implementation is correct. You will need to *pre-compute* the whole evolution of the system before visualizing it.\n",
    "Use the function `deepcopy` to copy the state of the whole system each time you store it."
   ]
  },
  {
   "cell_type": "markdown",
   "metadata": {},
   "source": [
    "4. Add to your visualization the history of $S$, $I$ and $R$ from time $0$ up to time $n$. To do this, make two separate plot objects $p_1$ and $p_2$ and use the `hbox` or `vbox` function (from `Interact.jl`) to put them together horizontally or vertically into a single plot."
   ]
  },
  {
   "cell_type": "code",
   "execution_count": null,
   "metadata": {},
   "outputs": [],
   "source": [
    " "
   ]
  }
 ],
 "metadata": {
  "@webio": {
   "lastCommId": null,
   "lastKernelId": null
  },
  "kernelspec": {
   "display_name": "Julia 1.4.2",
   "language": "julia",
   "name": "julia-1.4"
  },
  "language_info": {
   "file_extension": ".jl",
   "mimetype": "application/julia",
   "name": "julia",
   "version": "1.4.2"
  }
 },
 "nbformat": 4,
 "nbformat_minor": 4
}
