{
 "cells": [
  {
   "cell_type": "markdown",
   "metadata": {},
   "source": [
    "# 2. Generic programming: Random walks"
   ]
  },
  {
   "cell_type": "markdown",
   "metadata": {},
   "source": [
    "We want to think about an infection propagating through space as people move around and interact with each other. Probably the simplest way to model spatial motion is using **random walks**: at each time step, each person jumps in a random direction. This could take place in 1D (1 dimension) or 2D. For simplicity we will allow only integers.\n"
   ]
  },
  {
   "cell_type": "markdown",
   "metadata": {},
   "source": [
    "Thinking initially about one single walker (person), how could we **simulate** this in the computer? We will run an **algorithm** that looks like:\n",
    "\n",
    "0. Initialise the walker\n",
    "\n",
    "\n",
    "1. At each step:\n",
    "    - move the walker\n",
    "    - store the current position\n",
    "\n",
    "\n",
    "2. Repeat from step 1\n",
    "\n",
    "Ideally we would write our code in such a way that it has this structure but is agnostic (unaware) of *which type of walker* is moving (1D, 2D, on a network, etc.).\n",
    "This is called **generic programming**."
   ]
  },
  {
   "cell_type": "markdown",
   "metadata": {},
   "source": [
    "## Coding it up"
   ]
  },
  {
   "cell_type": "markdown",
   "metadata": {},
   "source": [
    "Each step roughly corresponds to a different function. Each different type of walker will need a different way to `initialize()` itself.  `move()` will return the new position chosen by the walker.\n",
    "\n",
    "The functions will need information about the walker, namely its current position.\n",
    "Here is a fleshed-out version:"
   ]
  },
  {
   "cell_type": "code",
   "execution_count": 1,
   "metadata": {},
   "outputs": [
    {
     "data": {
      "text/plain": [
       "walk"
      ]
     },
     "execution_count": 1,
     "metadata": {},
     "output_type": "execute_result"
    }
   ],
   "source": [
    "\"Simulate a walk for `T` steps.\"\n",
    "function walk(T)\n",
    "    pos = initialize()\n",
    "    \n",
    "    trajectory = [pos]    # make a Vector that contains just the current value of `pos`\n",
    "    \n",
    "    for t in 1:T\n",
    "        new_pos = move(pos)\n",
    "        push!(trajectory, new_pos)   # append to the Vector\n",
    "        \n",
    "        pos = new_pos     # update for next iteration\n",
    "    end\n",
    "    \n",
    "    return trajectory\n",
    "end"
   ]
  },
  {
   "cell_type": "markdown",
   "metadata": {},
   "source": [
    "Note that there's no problem to define this function, even though the `initialize` and `move` don't exist yet."
   ]
  },
  {
   "cell_type": "markdown",
   "metadata": {},
   "source": [
    "Let's think about a random walker moving in 1D. It starts at the origin (0) and jumps left or right with equal probability at each step:"
   ]
  },
  {
   "cell_type": "code",
   "execution_count": 2,
   "metadata": {},
   "outputs": [
    {
     "data": {
      "text/plain": [
       "move (generic function with 1 method)"
      ]
     },
     "execution_count": 2,
     "metadata": {},
     "output_type": "execute_result"
    }
   ],
   "source": [
    "# 1D walker\n",
    "\n",
    "initialize() = 0\n",
    "\n",
    "random_jump() = rand( (-1, +1) )\n",
    "\n",
    "move(x) = x + random_jump()"
   ]
  },
  {
   "cell_type": "markdown",
   "metadata": {},
   "source": [
    "It is idiomatic (i.e. regarded as good programming style) in Julia to define tiny functions like this that do one little thing.\n",
    "Note that *there is no cost* to doing so: Julia will *inline* such functions, removing the function-call overhead that you might have in other languages."
   ]
  },
  {
   "cell_type": "markdown",
   "metadata": {},
   "source": [
    "Having defined these functions, we can make a walk:"
   ]
  },
  {
   "cell_type": "code",
   "execution_count": 3,
   "metadata": {},
   "outputs": [
    {
     "data": {
      "text/plain": [
       "1×101 LinearAlgebra.Adjoint{Int64,Array{Int64,1}}:\n",
       " 0  -1  -2  -1  -2  -3  -4  -5  -4  -3  …  3  4  5  6  5  4  3  2  3  2  3  4"
      ]
     },
     "execution_count": 3,
     "metadata": {},
     "output_type": "execute_result"
    }
   ],
   "source": [
    "walk(100)'   # \"'\" means \"transpose\"; this is just to save space"
   ]
  },
  {
   "cell_type": "markdown",
   "metadata": {},
   "source": [
    "## Generic programming"
   ]
  },
  {
   "cell_type": "markdown",
   "metadata": {},
   "source": [
    "But now how could we do a 2D walker?\n",
    "We hard-coded the function names inside `walk`, so we would have to redefine the functions using the same name.\n",
    "But if we do so, they would *overwrite* (replace) the 1D version, which would thus no longer be usable."
   ]
  },
  {
   "cell_type": "markdown",
   "metadata": {},
   "source": [
    "Let's write versions of the functions for the 2D walker, e.g. using `Vector`s:"
   ]
  },
  {
   "cell_type": "code",
   "execution_count": 4,
   "metadata": {},
   "outputs": [
    {
     "data": {
      "text/plain": [
       "move_2D (generic function with 1 method)"
      ]
     },
     "execution_count": 4,
     "metadata": {},
     "output_type": "execute_result"
    }
   ],
   "source": [
    "initialize_2D() = [0, 0]\n",
    "\n",
    "move_2D(x) = [ x[1] + random_jump(), x[2] + random_jump() ]  # x is a vector"
   ]
  },
  {
   "cell_type": "markdown",
   "metadata": {},
   "source": [
    "(Note that we could write"
   ]
  },
  {
   "cell_type": "code",
   "execution_count": 5,
   "metadata": {},
   "outputs": [
    {
     "data": {
      "text/plain": [
       "move_2D (generic function with 1 method)"
      ]
     },
     "execution_count": 5,
     "metadata": {},
     "output_type": "execute_result"
    }
   ],
   "source": [
    "move_2D(x) = [ move(x[1]), move(x[2]) ] "
   ]
  },
  {
   "cell_type": "markdown",
   "metadata": {},
   "source": [
    ")"
   ]
  },
  {
   "cell_type": "markdown",
   "metadata": {},
   "source": [
    "Note: For short vectors of fixed length like this, you should use `SVector`s from the [`StaticArrays.jl`](https://github.com/JuliaArrays/StaticArrays.jl) package to get much better performance. Exercise!"
   ]
  },
  {
   "cell_type": "markdown",
   "metadata": {},
   "source": [
    "How can we use these new functions, which have the *wrong name*, inside our `walk` function?"
   ]
  },
  {
   "cell_type": "markdown",
   "metadata": {},
   "source": [
    "The key **idea** is that we want to call these new functions when `initialize` and `move` are called inside `walk`.\n",
    "To do so we can *pass these functions as arguments* to `walk`!:"
   ]
  },
  {
   "cell_type": "code",
   "execution_count": 6,
   "metadata": {},
   "outputs": [
    {
     "data": {
      "text/plain": [
       "walk (generic function with 2 methods)"
      ]
     },
     "execution_count": 6,
     "metadata": {},
     "output_type": "execute_result"
    }
   ],
   "source": [
    "function walk(initialize, move, T)\n",
    "    pos = initialize()\n",
    "    \n",
    "    trajectory = [pos]\n",
    "    \n",
    "    for t in 1:T\n",
    "        pos = move(pos)               # *update* the value pointed to by `pos`\n",
    "        push!(trajectory, deepcopy(pos))  # at the cost of needing to copy `pos` when we store it if it is a vector\n",
    "    end\n",
    "    \n",
    "    return trajectory\n",
    "end"
   ]
  },
  {
   "cell_type": "markdown",
   "metadata": {},
   "source": [
    "Julia informs us that there are now 2 **methods** (versions) of the `walk` function:"
   ]
  },
  {
   "cell_type": "code",
   "execution_count": 7,
   "metadata": {},
   "outputs": [
    {
     "data": {
      "text/html": [
       "# 2 methods for generic function <b>walk</b>:<ul><li> walk(T) in Main at In[1]:3</li> <li> walk(initialize, move, T) in Main at In[6]:2</li> </ul>"
      ],
      "text/plain": [
       "# 2 methods for generic function \"walk\":\n",
       "[1] walk(T) in Main at In[1]:3\n",
       "[2] walk(initialize, move, T) in Main at In[6]:2"
      ]
     },
     "execution_count": 7,
     "metadata": {},
     "output_type": "execute_result"
    }
   ],
   "source": [
    "methods(walk)"
   ]
  },
  {
   "cell_type": "markdown",
   "metadata": {},
   "source": [
    "Passing in the 2D functions behaves as we hoped and gives us a 2D walk!:"
   ]
  },
  {
   "cell_type": "code",
   "execution_count": 8,
   "metadata": {},
   "outputs": [
    {
     "data": {
      "text/plain": [
       "11-element Array{Array{Int64,1},1}:\n",
       " [0, 0]\n",
       " [-1, 1]\n",
       " [-2, 2]\n",
       " [-3, 3]\n",
       " [-4, 4]\n",
       " [-5, 3]\n",
       " [-6, 4]\n",
       " [-5, 3]\n",
       " [-4, 2]\n",
       " [-3, 3]\n",
       " [-4, 4]"
      ]
     },
     "execution_count": 8,
     "metadata": {},
     "output_type": "execute_result"
    }
   ],
   "source": [
    "walk(initialize_2D, move_2D, 10)"
   ]
  },
  {
   "cell_type": "markdown",
   "metadata": {},
   "source": [
    "Why is `copy` necessary inside `walk`? It's because of how Julia thinks of variables. A variable is a name that \"points to\" an object. Suppose I do the following:"
   ]
  },
  {
   "cell_type": "code",
   "execution_count": 9,
   "metadata": {},
   "outputs": [
    {
     "data": {
      "text/plain": [
       "1-element Array{Array{Int64,1},1}:\n",
       " [1, 2]"
      ]
     },
     "execution_count": 9,
     "metadata": {},
     "output_type": "execute_result"
    }
   ],
   "source": [
    "a = [1, 2]\n",
    "v = [a]"
   ]
  },
  {
   "cell_type": "code",
   "execution_count": 10,
   "metadata": {},
   "outputs": [
    {
     "data": {
      "text/plain": [
       "5"
      ]
     },
     "execution_count": 10,
     "metadata": {},
     "output_type": "execute_result"
    }
   ],
   "source": [
    "a[1] = 5"
   ]
  },
  {
   "cell_type": "code",
   "execution_count": 11,
   "metadata": {},
   "outputs": [
    {
     "data": {
      "text/plain": [
       "2-element Array{Array{Int64,1},1}:\n",
       " [5, 2]\n",
       " [5, 2]"
      ]
     },
     "execution_count": 11,
     "metadata": {},
     "output_type": "execute_result"
    }
   ],
   "source": [
    "push!(v, a)"
   ]
  },
  {
   "cell_type": "markdown",
   "metadata": {},
   "source": [
    "You can see that we end up with two copies of the *same* object, instead of the original value and the modified value. This is because the mutable objects stored inside `v` are really just the *names* of the same object."
   ]
  },
  {
   "cell_type": "markdown",
   "metadata": {},
   "source": [
    "## Two walkers"
   ]
  },
  {
   "cell_type": "markdown",
   "metadata": {},
   "source": [
    "#### Exercise: \n",
    "\n",
    "1. Suppose there are two walkers in 1D, one of which starts at position 0 and the other of which starts at position 2. How long does it take for them to meet each other, i.e. to land on the same location? Write a function `encounter` that runs *until* they meet each other. \n",
    "\n",
    "\n",
    "2. Run this function many times and accumulate the resulting times in a vector.\n",
    "\n",
    "\n",
    "3. Plot the histogram of the result. How does it behave?\n",
    "\n",
    "\n",
    "4. How do these results change if the walkers live inside a box, e.g. from -20 to 20. At the ends of the box if they try to jump outside the box they \"bounce back\" and stay at the same location."
   ]
  },
  {
   "cell_type": "markdown",
   "metadata": {},
   "source": [
    "### Counting when a walker passes through a point"
   ]
  },
  {
   "cell_type": "markdown",
   "metadata": {},
   "source": [
    "Now suppose we would like a random walker to have some \"knowledge\", for example, we want it to keep track of how many times it has passed through the origin. This is data that we somehow want to \"associate to\" the walker, which will need to be stored in a variable somewhere. The walker should be able to \"remember\" and modify this information. \n",
    "\n",
    "In our above formulation it is not clear how to do this. We need to set up this variable to contain the initial position in the `initialize` function, and then update it in the `move` function, so this data needs to be shared between these two functions.\n",
    "\n",
    "There are two common ways to deal with this:\n",
    "\n",
    "- **Global variables**, which live outside any function and are updated inside each function. However, this means that the functions can no longer be understood just by looking at their definition, and it allows outside influences to modify the data.\n",
    "\n",
    "    > Global variables make bad code that is hard to read and understand. Avoid them!\n",
    "\n",
    "- **Pass the data as an additional parameter** to each function. Unfortunately this will require modifying the surrounding code where the functions are called."
   ]
  },
  {
   "cell_type": "markdown",
   "metadata": {},
   "source": [
    "An apparent partial solution to this is to use a **`let` block**. This is a technique that allows us to create a new **scope** and a local variable that exists only inside that scope:"
   ]
  },
  {
   "cell_type": "code",
   "execution_count": 12,
   "metadata": {},
   "outputs": [
    {
     "data": {
      "text/plain": [
       "current (generic function with 1 method)"
      ]
     },
     "execution_count": 12,
     "metadata": {},
     "output_type": "execute_result"
    }
   ],
   "source": [
    "let x=0 \n",
    "    \n",
    "    global init(s) = x = s   # this looks strange, but the first `=` defines the function\n",
    "                             # the second `=` is in the body of the function\n",
    "    \n",
    "    global move() = x += 1\n",
    "    \n",
    "    global current() = x\n",
    "    \n",
    "end"
   ]
  },
  {
   "cell_type": "code",
   "execution_count": 13,
   "metadata": {
    "scrolled": true
   },
   "outputs": [
    {
     "data": {
      "text/plain": [
       "3"
      ]
     },
     "execution_count": 13,
     "metadata": {},
     "output_type": "execute_result"
    }
   ],
   "source": [
    "init(3)"
   ]
  },
  {
   "cell_type": "code",
   "execution_count": 14,
   "metadata": {},
   "outputs": [
    {
     "data": {
      "text/plain": [
       "4"
      ]
     },
     "execution_count": 14,
     "metadata": {},
     "output_type": "execute_result"
    }
   ],
   "source": [
    "move()"
   ]
  },
  {
   "cell_type": "code",
   "execution_count": 15,
   "metadata": {},
   "outputs": [
    {
     "data": {
      "text/plain": [
       "5"
      ]
     },
     "execution_count": 15,
     "metadata": {},
     "output_type": "execute_result"
    }
   ],
   "source": [
    "move()"
   ]
  },
  {
   "cell_type": "code",
   "execution_count": 16,
   "metadata": {},
   "outputs": [
    {
     "data": {
      "text/plain": [
       "5"
      ]
     },
     "execution_count": 16,
     "metadata": {},
     "output_type": "execute_result"
    }
   ],
   "source": [
    "current()"
   ]
  },
  {
   "cell_type": "code",
   "execution_count": 17,
   "metadata": {},
   "outputs": [
    {
     "data": {
      "text/plain": [
       "3"
      ]
     },
     "execution_count": 17,
     "metadata": {},
     "output_type": "execute_result"
    }
   ],
   "source": [
    "init(3)"
   ]
  },
  {
   "cell_type": "code",
   "execution_count": 18,
   "metadata": {},
   "outputs": [
    {
     "data": {
      "text/plain": [
       "4"
      ]
     },
     "execution_count": 18,
     "metadata": {},
     "output_type": "execute_result"
    }
   ],
   "source": [
    "move()"
   ]
  },
  {
   "cell_type": "code",
   "execution_count": 19,
   "metadata": {},
   "outputs": [
    {
     "ename": "UndefVarError",
     "evalue": "UndefVarError: x not defined",
     "output_type": "error",
     "traceback": [
      "UndefVarError: x not defined",
      "",
      "Stacktrace:",
      " [1] top-level scope at In[19]:1"
     ]
    }
   ],
   "source": [
    "x   # doesn't exist here: it exists only inside the let block"
   ]
  },
  {
   "cell_type": "markdown",
   "metadata": {},
   "source": [
    "This seems like a great solution! That is, until you ask the question \"how can I make a second, independent walker?\". You can't, since as soon as you call `initialize()` again, you reset the value of `x`."
   ]
  },
  {
   "cell_type": "markdown",
   "metadata": {},
   "source": [
    "Then you would probably start thinking about an array where you store the position of each walker, which is certainly doable.\n",
    "But probably you are starting to get the feeling that there should be a better solution, where we can make different walkers and refer to them individually."
   ]
  }
 ],
 "metadata": {
  "@webio": {
   "lastCommId": null,
   "lastKernelId": null
  },
  "kernelspec": {
   "display_name": "Julia 1.4.2",
   "language": "julia",
   "name": "julia-1.4"
  },
  "language_info": {
   "file_extension": ".jl",
   "mimetype": "application/julia",
   "name": "julia",
   "version": "1.4.2"
  }
 },
 "nbformat": 4,
 "nbformat_minor": 4
}
