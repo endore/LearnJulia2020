{
 "cells": [
  {
   "cell_type": "markdown",
   "metadata": {},
   "source": [
    "# 3. Composite types "
   ]
  },
  {
   "cell_type": "markdown",
   "metadata": {},
   "source": [
    "In the previous notebook we began to see the need for a way to be able to describe objects that we are modelling in code, in such a way that the objects can have internal properties which are grouped together in one place.\n",
    "\n",
    "Our main goal will be to model a person who can move *and* has an infection status, telling us whether they are susceptible, infectious or recovered. We could also add other information, such as how many times it has passed through 0 or which direction it moved on the previous step."
   ]
  },
  {
   "cell_type": "markdown",
   "metadata": {},
   "source": [
    "## The main idea"
   ]
  },
  {
   "cell_type": "markdown",
   "metadata": {},
   "source": [
    "The main **idea** is to collect up or **aggregate** all relevant information into a new data structure, called a **composite type** (or custom type, aggregate type, user-defined type, ...).\n",
    "\n",
    "Basically we want to be able to specify the \"template\" / \"shape\" / \"structure\" for a bag or box that will contain all the relevant information; this specification is the type itself. Then we need to produce objects which have that structure, i.e. which *contain* the corresponding variables; these are called **instances**."
   ]
  },
  {
   "cell_type": "markdown",
   "metadata": {
    "slideshow": {
     "slide_type": "slide"
    }
   },
   "source": [
    "In Julia this is accomplished using the `struct` keyword (short for \"structure\"). For example, we can make an object that contains the $x$ and $y$ coordinates of a walker in 2 dimensions as"
   ]
  },
  {
   "cell_type": "code",
   "execution_count": 1,
   "metadata": {},
   "outputs": [],
   "source": [
    "struct Walker2D\n",
    "    x::Int64\n",
    "    y::Int64\n",
    "end"
   ]
  },
  {
   "cell_type": "markdown",
   "metadata": {},
   "source": [
    "What is `Walker2D`? It is the name of a new *type*:"
   ]
  },
  {
   "cell_type": "code",
   "execution_count": 2,
   "metadata": {},
   "outputs": [
    {
     "data": {
      "text/plain": [
       "Walker2D"
      ]
     },
     "execution_count": 2,
     "metadata": {},
     "output_type": "execute_result"
    }
   ],
   "source": [
    "Walker2D"
   ]
  },
  {
   "cell_type": "markdown",
   "metadata": {},
   "source": [
    "It is also the name of a pair of functions that Julia has automatically created for us:"
   ]
  },
  {
   "cell_type": "code",
   "execution_count": 3,
   "metadata": {},
   "outputs": [
    {
     "data": {
      "text/html": [
       "# 2 methods for type constructor:<ul><li> Walker2D(x::<b>Int64</b>, y::<b>Int64</b>) in Main at In[1]:2</li> <li> Walker2D(x, y) in Main at In[1]:2</li> </ul>"
      ],
      "text/plain": [
       "# 2 methods for type constructor:\n",
       "[1] Walker2D(x::Int64, y::Int64) in Main at In[1]:2\n",
       "[2] Walker2D(x, y) in Main at In[1]:2"
      ]
     },
     "execution_count": 3,
     "metadata": {},
     "output_type": "execute_result"
    }
   ],
   "source": [
    "methods(Walker2D)"
   ]
  },
  {
   "cell_type": "markdown",
   "metadata": {},
   "source": [
    "These functions are used to create or construct objects of this type; they are called **constructors**. For example:"
   ]
  },
  {
   "cell_type": "code",
   "execution_count": 4,
   "metadata": {},
   "outputs": [
    {
     "data": {
      "text/plain": [
       "Walker2D(1, 2)"
      ]
     },
     "execution_count": 4,
     "metadata": {},
     "output_type": "execute_result"
    }
   ],
   "source": [
    "w = Walker2D(1, 2)"
   ]
  },
  {
   "cell_type": "markdown",
   "metadata": {},
   "source": [
    "This has created an object `w`, of type `Walker2D`. "
   ]
  },
  {
   "cell_type": "code",
   "execution_count": 5,
   "metadata": {},
   "outputs": [
    {
     "data": {
      "text/plain": [
       "Walker2D(1, 2)"
      ]
     },
     "execution_count": 5,
     "metadata": {},
     "output_type": "execute_result"
    }
   ],
   "source": [
    "w"
   ]
  },
  {
   "cell_type": "code",
   "execution_count": 6,
   "metadata": {},
   "outputs": [
    {
     "data": {
      "text/plain": [
       "Walker2D"
      ]
     },
     "execution_count": 6,
     "metadata": {},
     "output_type": "execute_result"
    }
   ],
   "source": [
    "typeof(w)"
   ]
  },
  {
   "cell_type": "markdown",
   "metadata": {},
   "source": [
    "The `x` and `y` coordinates of the walker are the **fields**. They live inside the object and can be accessed using the `.` operator:"
   ]
  },
  {
   "cell_type": "code",
   "execution_count": 7,
   "metadata": {},
   "outputs": [
    {
     "data": {
      "text/plain": [
       "1"
      ]
     },
     "execution_count": 7,
     "metadata": {},
     "output_type": "execute_result"
    }
   ],
   "source": [
    "w.x"
   ]
  },
  {
   "cell_type": "code",
   "execution_count": 8,
   "metadata": {},
   "outputs": [
    {
     "data": {
      "text/plain": [
       "2"
      ]
     },
     "execution_count": 8,
     "metadata": {},
     "output_type": "execute_result"
    }
   ],
   "source": [
    "w.y"
   ]
  },
  {
   "cell_type": "markdown",
   "metadata": {},
   "source": [
    "We can create another walker by calling the constructor again:"
   ]
  },
  {
   "cell_type": "code",
   "execution_count": 9,
   "metadata": {},
   "outputs": [
    {
     "data": {
      "text/plain": [
       "Walker2D(3, 4)"
      ]
     },
     "execution_count": 9,
     "metadata": {},
     "output_type": "execute_result"
    }
   ],
   "source": [
    "w2 = Walker2D(3, 4)"
   ]
  },
  {
   "cell_type": "markdown",
   "metadata": {},
   "source": [
    "It's fields are different:"
   ]
  },
  {
   "cell_type": "code",
   "execution_count": 10,
   "metadata": {},
   "outputs": [
    {
     "data": {
      "text/plain": [
       "3"
      ]
     },
     "execution_count": 10,
     "metadata": {},
     "output_type": "execute_result"
    }
   ],
   "source": [
    "w2.x"
   ]
  },
  {
   "cell_type": "code",
   "execution_count": 11,
   "metadata": {},
   "outputs": [
    {
     "data": {
      "text/plain": [
       "4"
      ]
     },
     "execution_count": 11,
     "metadata": {},
     "output_type": "execute_result"
    }
   ],
   "source": [
    "w2.y"
   ]
  },
  {
   "cell_type": "markdown",
   "metadata": {},
   "source": [
    "Let's verify that `w`s data is still the same as it was:"
   ]
  },
  {
   "cell_type": "code",
   "execution_count": 12,
   "metadata": {},
   "outputs": [
    {
     "data": {
      "text/plain": [
       "(1, 2)"
      ]
     },
     "execution_count": 12,
     "metadata": {},
     "output_type": "execute_result"
    }
   ],
   "source": [
    "w.x, w.y"
   ]
  },
  {
   "cell_type": "markdown",
   "metadata": {},
   "source": [
    "So we see that this mechanism successfully allows us to create *different* objects of the same type. We can really now talk about having \"two separate walkers\" in our code, in a way that accurately reflects the situation we are trying to model."
   ]
  },
  {
   "cell_type": "markdown",
   "metadata": {},
   "source": [
    "## (Outer) constructors"
   ]
  },
  {
   "cell_type": "markdown",
   "metadata": {},
   "source": [
    "Suppose we want walkers to be born at the origin unless otherwise stated. We don't want to have to write `Walker2D(0, 0)` each time; we would like to just write `Walker2D()`. In other words, we want to *add a new method* to the function `Walker2D`:"
   ]
  },
  {
   "cell_type": "code",
   "execution_count": 13,
   "metadata": {},
   "outputs": [
    {
     "data": {
      "text/plain": [
       "Walker2D"
      ]
     },
     "execution_count": 13,
     "metadata": {},
     "output_type": "execute_result"
    }
   ],
   "source": [
    "Walker2D() = Walker2D(0, 0)"
   ]
  },
  {
   "cell_type": "markdown",
   "metadata": {},
   "source": [
    "We can see that indeed a new method was created using the `methods` function:"
   ]
  },
  {
   "cell_type": "code",
   "execution_count": 14,
   "metadata": {},
   "outputs": [
    {
     "data": {
      "text/html": [
       "# 3 methods for type constructor:<ul><li> Walker2D() in Main at In[13]:1</li> <li> Walker2D(x::<b>Int64</b>, y::<b>Int64</b>) in Main at In[1]:2</li> <li> Walker2D(x, y) in Main at In[1]:2</li> </ul>"
      ],
      "text/plain": [
       "# 3 methods for type constructor:\n",
       "[1] Walker2D() in Main at In[13]:1\n",
       "[2] Walker2D(x::Int64, y::Int64) in Main at In[1]:2\n",
       "[3] Walker2D(x, y) in Main at In[1]:2"
      ]
     },
     "execution_count": 14,
     "metadata": {},
     "output_type": "execute_result"
    }
   ],
   "source": [
    "methods(Walker2D)"
   ]
  },
  {
   "cell_type": "markdown",
   "metadata": {},
   "source": [
    "Such a constructor is called an **outer constructor**, since it lives *outside* the definition of the type. [There are also inner constructors, which are used *only* if, for example, you want to be able to prevent creating objects which are invalid under some criterion. Prefer outer constructors whenever possible.]"
   ]
  },
  {
   "cell_type": "markdown",
   "metadata": {},
   "source": [
    "\n",
    "## Making walkers move"
   ]
  },
  {
   "cell_type": "markdown",
   "metadata": {},
   "source": [
    "Now we would like to make a walker move. We might think this would be easy: we should just modify one of its fields. However:"
   ]
  },
  {
   "cell_type": "code",
   "execution_count": 15,
   "metadata": {},
   "outputs": [
    {
     "ename": "ErrorException",
     "evalue": "setfield! immutable struct of type Walker2D cannot be changed",
     "output_type": "error",
     "traceback": [
      "setfield! immutable struct of type Walker2D cannot be changed",
      "",
      "Stacktrace:",
      " [1] setproperty!(::Walker2D, ::Symbol, ::Int64) at .\\Base.jl:34",
      " [2] top-level scope at In[15]:1"
     ]
    }
   ],
   "source": [
    "w.x = 10"
   ]
  },
  {
   "cell_type": "markdown",
   "metadata": {},
   "source": [
    "[`setfield!` is the function that is called when we try to change a field.]\n",
    "\n",
    "We are not allowed to modify the fields because we defined `Walker2D` as an **immutable** `struct`. \n",
    "\"Mutation\" is a computer science term, referring to the ability to modify an object. `struct`s are immutable (non-modifiable) in Julia by default. Usually you will have better performance if you are able to use immutable `struct`s. [Technically, they are probably stored on the stack, instead of the heap.]"
   ]
  },
  {
   "cell_type": "markdown",
   "metadata": {},
   "source": [
    "So in order to make our walker move, we need to create a *new* object with the new position. This could seem expensive, but in fact the Julia compiler will often be able to completely remove this object creation and produce code that is just as efficient as if there were no object at all!"
   ]
  },
  {
   "cell_type": "markdown",
   "metadata": {},
   "source": [
    "#### Exercise\n",
    "1. Make a function `move_right` that takes a `Walker2D` as argument. It returns a new walker, located one step to the right.\n",
    "\n",
    "2. Make a function `jump` that takes a `Walker2D` as argument and makes it move to a random adjacent location. You should choose either the $x$ or $y$ coordinate at random, and move that coordinarte by 1 step in a random direction."
   ]
  },
  {
   "cell_type": "markdown",
   "metadata": {},
   "source": [
    "In Julia, variables are names that are associated to values, i.e. they are **bindings** that \"point to\" objects located in memory. [Strictly speaking, the object may not actually have a physical location in memory; it may just live inside the CPU's registers. In fact, this is the best situation for performance.]\n",
    "\n",
    "We can update the binding by assigning a new object to that variable name:"
   ]
  },
  {
   "cell_type": "code",
   "execution_count": 43,
   "metadata": {},
   "outputs": [
    {
     "data": {
      "text/plain": [
       "move_right (generic function with 2 methods)"
      ]
     },
     "execution_count": 43,
     "metadata": {},
     "output_type": "execute_result"
    }
   ],
   "source": [
    "move_right(w::Walker2D) = Walker2D(w.x +1,w.y)"
   ]
  },
  {
   "cell_type": "code",
   "execution_count": 17,
   "metadata": {},
   "outputs": [
    {
     "data": {
      "text/plain": [
       "Walker2D(2, 2)"
      ]
     },
     "execution_count": 17,
     "metadata": {},
     "output_type": "execute_result"
    }
   ],
   "source": [
    "w = Walker2D(1, 2)\n",
    "w = move_right(w)   # should return (2, 2)"
   ]
  },
  {
   "cell_type": "markdown",
   "metadata": {},
   "source": [
    "In this way we can have variables that refer to immutable `struct`s but whose value we can change."
   ]
  },
  {
   "cell_type": "markdown",
   "metadata": {},
   "source": [
    "## Generic programming with types"
   ]
  },
  {
   "cell_type": "markdown",
   "metadata": {},
   "source": [
    "Let's think about our `walk` function from the previous notebook:"
   ]
  },
  {
   "cell_type": "code",
   "execution_count": 18,
   "metadata": {},
   "outputs": [
    {
     "data": {
      "text/plain": [
       "walk (generic function with 1 method)"
      ]
     },
     "execution_count": 18,
     "metadata": {},
     "output_type": "execute_result"
    }
   ],
   "source": [
    "function walk(T)\n",
    "    pos = initialize()\n",
    "    \n",
    "    trajectory = [pos]    # make a vector that contains one item, the current value of `pos`\n",
    "    \n",
    "    for t in 1:T\n",
    "        pos = move(pos)\n",
    "        push!(trajectory, deepcopy(pos))\n",
    "    end\n",
    "    \n",
    "    return trajectory\n",
    "end"
   ]
  },
  {
   "cell_type": "markdown",
   "metadata": {},
   "source": [
    "In the previous notebook we changed the behaviour by passing in different functions as arguments. Now, however, we have a (usually) better solution: we can make objects of different *types* behave in different ways! \n",
    "\n",
    "Indeed, we have not actually said what **types** are. They are basically labels that tell Julia how data (i.e. bits in memory) should **behave** when acted on by different functions. For example, internally Julia must call *different* functions to add two integers or two floating-point numbers together, since the internal representation of these numbers is very different."
   ]
  },
  {
   "cell_type": "markdown",
   "metadata": {},
   "source": [
    "So let's rewrite `walk` so that it acts on an *object* `w` representing our walker:"
   ]
  },
  {
   "cell_type": "code",
   "execution_count": 19,
   "metadata": {},
   "outputs": [
    {
     "data": {
      "text/plain": [
       "walk"
      ]
     },
     "execution_count": 19,
     "metadata": {},
     "output_type": "execute_result"
    }
   ],
   "source": [
    "\"Calculate the trajectory of a walker `w` for time `T`.\"\n",
    "function walk(w, T)\n",
    "    \n",
    "    trajectory = [w]   # store the current (initial) position of `w`\n",
    "    \n",
    "    for t in 1:T\n",
    "        w = move(w)    # update the value bound to `w`\n",
    "        push!(trajectory, deepcopy(w))   # store the current value\n",
    "    end\n",
    "    \n",
    "    return trajectory\n",
    "end"
   ]
  },
  {
   "cell_type": "markdown",
   "metadata": {},
   "source": [
    "It now accepts an argument `w`, which we expect to be some type of walker object. Note that we no longer call `initialise` &ndash; rather, we require that the user create their favourite type of walker object and pass it to us as an additional *input argument* to the function.\n",
    "\n",
    "What makes something a \"walker object\"? If we look at the function, we see that the only thing we actually do to `w` is to call `move` on it. So we have an informal **interface**: *anything* with a function `move` defined (that behaves in the correct way) will be OK! This is another example of generic programming."
   ]
  },
  {
   "cell_type": "markdown",
   "metadata": {},
   "source": [
    "For example, we can use our function with standard Julia integers by defining a `walk` function on them:"
   ]
  },
  {
   "cell_type": "code",
   "execution_count": 20,
   "metadata": {},
   "outputs": [
    {
     "data": {
      "text/plain": [
       "move (generic function with 1 method)"
      ]
     },
     "execution_count": 20,
     "metadata": {},
     "output_type": "execute_result"
    }
   ],
   "source": [
    "move(w::Integer) = w + 1"
   ]
  },
  {
   "cell_type": "markdown",
   "metadata": {},
   "source": [
    "Here, `w::Integer` is a **type annotation**. It is saying \"this version of the `walk` function applies when the argument is of type `Integer`. (Note that `Integer` is an abstract type that includes all concrete integer types, such as `Int64` and `BigInt`.) \n",
    "\n",
    "Versions of functions (with the *same* function name) are known as **methods** in Julia. A (generic) function is made up of a patchwork of different methods that act on objects of different types. When we add a method that acts on a new type or combination of types we talk about **extending** the function.\n",
    "\n",
    "Note that it is rare for functions to live inside types in Julia, unlike in object-oriented languages. Functions are too important to be hidden away inside types! \n",
    "This is one of the main things that gives Julia a very different flavour and makes it much more flexible for scientific / technical computing."
   ]
  },
  {
   "cell_type": "markdown",
   "metadata": {},
   "source": [
    "Now we can walk down the integers:"
   ]
  },
  {
   "cell_type": "code",
   "execution_count": 21,
   "metadata": {},
   "outputs": [
    {
     "data": {
      "text/plain": [
       "1×11 LinearAlgebra.Adjoint{Int64,Array{Int64,1}}:\n",
       " 3  4  5  6  7  8  9  10  11  12  13"
      ]
     },
     "execution_count": 21,
     "metadata": {},
     "output_type": "execute_result"
    }
   ],
   "source": [
    "x0 = 3  # initial position\n",
    "T = 10  # length of trajectory\n",
    "\n",
    "trajectory = walk(x0, T)'"
   ]
  },
  {
   "cell_type": "markdown",
   "metadata": {},
   "source": [
    "#### Exercise\n",
    "\n",
    "1. Define a `Walker1D` type and a *new method* for the `move` function (with the *same* function name, `move`!).\n",
    "Plot some trajectories as a function of time.\n",
    "\n",
    "\n",
    "2. Use the `Walker2D` type, together with the random jump code from the last notebook, to define another new method for `move`.\n",
    "\n",
    "\n",
    "3. Use this to calculate and plot a trajectory in space. Hint: An array comprehension is a simple way of extracting a given field from an object.\n",
    "\n",
    "\n",
    "4. Make an interactive visualization of a cloud of walkers over time."
   ]
  },
  {
   "cell_type": "code",
   "execution_count": 44,
   "metadata": {},
   "outputs": [
    {
     "data": {
      "text/plain": [
       "move (generic function with 3 methods)"
      ]
     },
     "execution_count": 44,
     "metadata": {},
     "output_type": "execute_result"
    }
   ],
   "source": [
    "struct Walker1D\n",
    "    x::Int64\n",
    "end\n",
    "\n",
    "move(w::Walker1D) = Walker1D(move(w.x))"
   ]
  },
  {
   "cell_type": "code",
   "execution_count": 45,
   "metadata": {},
   "outputs": [
    {
     "data": {
      "text/plain": [
       "11-element Array{Walker1D,1}:\n",
       " Walker1D(0)\n",
       " Walker1D(1)\n",
       " Walker1D(2)\n",
       " Walker1D(3)\n",
       " Walker1D(4)\n",
       " Walker1D(5)\n",
       " Walker1D(6)\n",
       " Walker1D(7)\n",
       " Walker1D(8)\n",
       " Walker1D(9)\n",
       " Walker1D(10)"
      ]
     },
     "execution_count": 45,
     "metadata": {},
     "output_type": "execute_result"
    }
   ],
   "source": [
    "x_0 = 0\n",
    "T = 10\n",
    "my_w1d = Walker1D(x_0)\n",
    "w1d_traj = walk(my_w1d,T)"
   ]
  },
  {
   "cell_type": "code",
   "execution_count": 46,
   "metadata": {},
   "outputs": [
    {
     "data": {
      "image/svg+xml": [
       "<?xml version=\"1.0\" encoding=\"utf-8\"?>\n",
       "<svg xmlns=\"http://www.w3.org/2000/svg\" xmlns:xlink=\"http://www.w3.org/1999/xlink\" width=\"600\" height=\"400\" viewBox=\"0 0 2400 1600\">\n",
       "<defs>\n",
       "  <clipPath id=\"clip760\">\n",
       "    <rect x=\"0\" y=\"0\" width=\"2400\" height=\"1600\"/>\n",
       "  </clipPath>\n",
       "</defs>\n",
       "<path clip-path=\"url(#clip760)\" d=\"\n",
       "M0 1600 L2400 1600 L2400 0 L0 0  Z\n",
       "  \" fill=\"#ffffff\" fill-rule=\"evenodd\" fill-opacity=\"1\"/>\n",
       "<defs>\n",
       "  <clipPath id=\"clip761\">\n",
       "    <rect x=\"480\" y=\"0\" width=\"1681\" height=\"1600\"/>\n",
       "  </clipPath>\n",
       "</defs>\n",
       "<path clip-path=\"url(#clip760)\" d=\"\n",
       "M112.177 1486.45 L2352.76 1486.45 L2352.76 47.2441 L112.177 47.2441  Z\n",
       "  \" fill=\"#ffffff\" fill-rule=\"evenodd\" fill-opacity=\"1\"/>\n",
       "<defs>\n",
       "  <clipPath id=\"clip762\">\n",
       "    <rect x=\"112\" y=\"47\" width=\"2242\" height=\"1440\"/>\n",
       "  </clipPath>\n",
       "</defs>\n",
       "<polyline clip-path=\"url(#clip762)\" style=\"stroke:#000000; stroke-width:2; stroke-opacity:0.1; fill:none\" points=\"\n",
       "  410.451,1486.45 410.451,47.2441 \n",
       "  \"/>\n",
       "<polyline clip-path=\"url(#clip762)\" style=\"stroke:#000000; stroke-width:2; stroke-opacity:0.1; fill:none\" points=\"\n",
       "  880.174,1486.45 880.174,47.2441 \n",
       "  \"/>\n",
       "<polyline clip-path=\"url(#clip762)\" style=\"stroke:#000000; stroke-width:2; stroke-opacity:0.1; fill:none\" points=\"\n",
       "  1349.9,1486.45 1349.9,47.2441 \n",
       "  \"/>\n",
       "<polyline clip-path=\"url(#clip762)\" style=\"stroke:#000000; stroke-width:2; stroke-opacity:0.1; fill:none\" points=\"\n",
       "  1819.62,1486.45 1819.62,47.2441 \n",
       "  \"/>\n",
       "<polyline clip-path=\"url(#clip762)\" style=\"stroke:#000000; stroke-width:2; stroke-opacity:0.1; fill:none\" points=\"\n",
       "  2289.34,1486.45 2289.34,47.2441 \n",
       "  \"/>\n",
       "<polyline clip-path=\"url(#clip762)\" style=\"stroke:#000000; stroke-width:2; stroke-opacity:0.1; fill:none\" points=\"\n",
       "  112.177,1445.72 2352.76,1445.72 \n",
       "  \"/>\n",
       "<polyline clip-path=\"url(#clip762)\" style=\"stroke:#000000; stroke-width:2; stroke-opacity:0.1; fill:none\" points=\"\n",
       "  112.177,1144 2352.76,1144 \n",
       "  \"/>\n",
       "<polyline clip-path=\"url(#clip762)\" style=\"stroke:#000000; stroke-width:2; stroke-opacity:0.1; fill:none\" points=\"\n",
       "  112.177,842.276 2352.76,842.276 \n",
       "  \"/>\n",
       "<polyline clip-path=\"url(#clip762)\" style=\"stroke:#000000; stroke-width:2; stroke-opacity:0.1; fill:none\" points=\"\n",
       "  112.177,540.556 2352.76,540.556 \n",
       "  \"/>\n",
       "<polyline clip-path=\"url(#clip762)\" style=\"stroke:#000000; stroke-width:2; stroke-opacity:0.1; fill:none\" points=\"\n",
       "  112.177,238.836 2352.76,238.836 \n",
       "  \"/>\n",
       "<polyline clip-path=\"url(#clip760)\" style=\"stroke:#000000; stroke-width:4; stroke-opacity:1; fill:none\" points=\"\n",
       "  112.177,1486.45 2352.76,1486.45 \n",
       "  \"/>\n",
       "<polyline clip-path=\"url(#clip760)\" style=\"stroke:#000000; stroke-width:4; stroke-opacity:1; fill:none\" points=\"\n",
       "  112.177,1486.45 112.177,47.2441 \n",
       "  \"/>\n",
       "<polyline clip-path=\"url(#clip760)\" style=\"stroke:#000000; stroke-width:4; stroke-opacity:1; fill:none\" points=\"\n",
       "  410.451,1486.45 410.451,1469.18 \n",
       "  \"/>\n",
       "<polyline clip-path=\"url(#clip760)\" style=\"stroke:#000000; stroke-width:4; stroke-opacity:1; fill:none\" points=\"\n",
       "  880.174,1486.45 880.174,1469.18 \n",
       "  \"/>\n",
       "<polyline clip-path=\"url(#clip760)\" style=\"stroke:#000000; stroke-width:4; stroke-opacity:1; fill:none\" points=\"\n",
       "  1349.9,1486.45 1349.9,1469.18 \n",
       "  \"/>\n",
       "<polyline clip-path=\"url(#clip760)\" style=\"stroke:#000000; stroke-width:4; stroke-opacity:1; fill:none\" points=\"\n",
       "  1819.62,1486.45 1819.62,1469.18 \n",
       "  \"/>\n",
       "<polyline clip-path=\"url(#clip760)\" style=\"stroke:#000000; stroke-width:4; stroke-opacity:1; fill:none\" points=\"\n",
       "  2289.34,1486.45 2289.34,1469.18 \n",
       "  \"/>\n",
       "<polyline clip-path=\"url(#clip760)\" style=\"stroke:#000000; stroke-width:4; stroke-opacity:1; fill:none\" points=\"\n",
       "  112.177,1445.72 139.064,1445.72 \n",
       "  \"/>\n",
       "<polyline clip-path=\"url(#clip760)\" style=\"stroke:#000000; stroke-width:4; stroke-opacity:1; fill:none\" points=\"\n",
       "  112.177,1144 139.064,1144 \n",
       "  \"/>\n",
       "<polyline clip-path=\"url(#clip760)\" style=\"stroke:#000000; stroke-width:4; stroke-opacity:1; fill:none\" points=\"\n",
       "  112.177,842.276 139.064,842.276 \n",
       "  \"/>\n",
       "<polyline clip-path=\"url(#clip760)\" style=\"stroke:#000000; stroke-width:4; stroke-opacity:1; fill:none\" points=\"\n",
       "  112.177,540.556 139.064,540.556 \n",
       "  \"/>\n",
       "<polyline clip-path=\"url(#clip760)\" style=\"stroke:#000000; stroke-width:4; stroke-opacity:1; fill:none\" points=\"\n",
       "  112.177,238.836 139.064,238.836 \n",
       "  \"/>\n",
       "<path clip-path=\"url(#clip760)\" d=\"M 0 0 M405.104 1535.98 L421.423 1535.98 L421.423 1539.92 L399.479 1539.92 L399.479 1535.98 Q402.141 1533.23 406.724 1528.6 Q411.331 1523.95 412.511 1522.61 Q414.757 1520.08 415.636 1518.35 Q416.539 1516.59 416.539 1514.9 Q416.539 1512.14 414.595 1510.41 Q412.673 1508.67 409.572 1508.67 Q407.373 1508.67 404.919 1509.43 Q402.488 1510.2 399.711 1511.75 L399.711 1507.03 Q402.535 1505.89 404.988 1505.31 Q407.442 1504.73 409.479 1504.73 Q414.849 1504.73 418.044 1507.42 Q421.238 1510.11 421.238 1514.6 Q421.238 1516.73 420.428 1518.65 Q419.641 1520.54 417.535 1523.14 Q416.956 1523.81 413.854 1527.03 Q410.752 1530.22 405.104 1535.98 Z\" fill=\"#000000\" fill-rule=\"evenodd\" fill-opacity=\"1\" /><path clip-path=\"url(#clip760)\" d=\"M 0 0 M883.184 1509.43 L871.378 1527.88 L883.184 1527.88 L883.184 1509.43 M881.957 1505.36 L887.836 1505.36 L887.836 1527.88 L892.767 1527.88 L892.767 1531.77 L887.836 1531.77 L887.836 1539.92 L883.184 1539.92 L883.184 1531.77 L867.582 1531.77 L867.582 1527.26 L881.957 1505.36 Z\" fill=\"#000000\" fill-rule=\"evenodd\" fill-opacity=\"1\" /><path clip-path=\"url(#clip760)\" d=\"M 0 0 M1350.3 1520.78 Q1347.15 1520.78 1345.3 1522.93 Q1343.47 1525.08 1343.47 1528.83 Q1343.47 1532.56 1345.3 1534.73 Q1347.15 1536.89 1350.3 1536.89 Q1353.45 1536.89 1355.28 1534.73 Q1357.13 1532.56 1357.13 1528.83 Q1357.13 1525.08 1355.28 1522.93 Q1353.45 1520.78 1350.3 1520.78 M1359.58 1506.12 L1359.58 1510.38 Q1357.83 1509.55 1356.02 1509.11 Q1354.24 1508.67 1352.48 1508.67 Q1347.85 1508.67 1345.4 1511.8 Q1342.96 1514.92 1342.62 1521.24 Q1343.98 1519.23 1346.04 1518.16 Q1348.1 1517.07 1350.58 1517.07 Q1355.79 1517.07 1358.8 1520.24 Q1361.83 1523.39 1361.83 1528.83 Q1361.83 1534.16 1358.68 1537.37 Q1355.53 1540.59 1350.3 1540.59 Q1344.31 1540.59 1341.14 1536.01 Q1337.96 1531.4 1337.96 1522.67 Q1337.96 1514.48 1341.85 1509.62 Q1345.74 1504.73 1352.29 1504.73 Q1354.05 1504.73 1355.83 1505.08 Q1357.64 1505.43 1359.58 1506.12 Z\" fill=\"#000000\" fill-rule=\"evenodd\" fill-opacity=\"1\" /><path clip-path=\"url(#clip760)\" d=\"M 0 0 M1819.62 1523.51 Q1816.29 1523.51 1814.37 1525.29 Q1812.47 1527.07 1812.47 1530.2 Q1812.47 1533.32 1814.37 1535.11 Q1816.29 1536.89 1819.62 1536.89 Q1822.95 1536.89 1824.87 1535.11 Q1826.8 1533.3 1826.8 1530.2 Q1826.8 1527.07 1824.87 1525.29 Q1822.98 1523.51 1819.62 1523.51 M1814.94 1521.52 Q1811.94 1520.78 1810.25 1518.72 Q1808.58 1516.66 1808.58 1513.69 Q1808.58 1509.55 1811.52 1507.14 Q1814.48 1504.73 1819.62 1504.73 Q1824.78 1504.73 1827.72 1507.14 Q1830.66 1509.55 1830.66 1513.69 Q1830.66 1516.66 1828.97 1518.72 Q1827.31 1520.78 1824.32 1521.52 Q1827.7 1522.3 1829.57 1524.6 Q1831.47 1526.89 1831.47 1530.2 Q1831.47 1535.22 1828.39 1537.91 Q1825.34 1540.59 1819.62 1540.59 Q1813.9 1540.59 1810.82 1537.91 Q1807.77 1535.22 1807.77 1530.2 Q1807.77 1526.89 1809.67 1524.6 Q1811.56 1522.3 1814.94 1521.52 M1813.23 1514.13 Q1813.23 1516.82 1814.9 1518.32 Q1816.59 1519.83 1819.62 1519.83 Q1822.63 1519.83 1824.32 1518.32 Q1826.03 1516.82 1826.03 1514.13 Q1826.03 1511.45 1824.32 1509.94 Q1822.63 1508.44 1819.62 1508.44 Q1816.59 1508.44 1814.9 1509.94 Q1813.23 1511.45 1813.23 1514.13 Z\" fill=\"#000000\" fill-rule=\"evenodd\" fill-opacity=\"1\" /><path clip-path=\"url(#clip760)\" d=\"M 0 0 M2266.22 1535.98 L2273.86 1535.98 L2273.86 1509.62 L2265.55 1511.29 L2265.55 1507.03 L2273.81 1505.36 L2278.49 1505.36 L2278.49 1535.98 L2286.13 1535.98 L2286.13 1539.92 L2266.22 1539.92 L2266.22 1535.98 Z\" fill=\"#000000\" fill-rule=\"evenodd\" fill-opacity=\"1\" /><path clip-path=\"url(#clip760)\" d=\"M 0 0 M2301.2 1508.44 Q2297.58 1508.44 2295.76 1512 Q2293.95 1515.55 2293.95 1522.67 Q2293.95 1529.78 2295.76 1533.35 Q2297.58 1536.89 2301.2 1536.89 Q2304.83 1536.89 2306.63 1533.35 Q2308.46 1529.78 2308.46 1522.67 Q2308.46 1515.55 2306.63 1512 Q2304.83 1508.44 2301.2 1508.44 M2301.2 1504.73 Q2307.01 1504.73 2310.06 1509.34 Q2313.14 1513.92 2313.14 1522.67 Q2313.14 1531.4 2310.06 1536.01 Q2307.01 1540.59 2301.2 1540.59 Q2295.38 1540.59 2292.31 1536.01 Q2289.25 1531.4 2289.25 1522.67 Q2289.25 1513.92 2292.31 1509.34 Q2295.38 1504.73 2301.2 1504.73 Z\" fill=\"#000000\" fill-rule=\"evenodd\" fill-opacity=\"1\" /><path clip-path=\"url(#clip760)\" d=\"M 0 0 M76.2328 1431.51 Q72.6217 1431.51 70.793 1435.08 Q68.9875 1438.62 68.9875 1445.75 Q68.9875 1452.86 70.793 1456.42 Q72.6217 1459.96 76.2328 1459.96 Q79.867 1459.96 81.6726 1456.42 Q83.5013 1452.86 83.5013 1445.75 Q83.5013 1438.62 81.6726 1435.08 Q79.867 1431.51 76.2328 1431.51 M76.2328 1427.81 Q82.0429 1427.81 85.0985 1432.42 Q88.1772 1437 88.1772 1445.75 Q88.1772 1454.48 85.0985 1459.08 Q82.0429 1463.67 76.2328 1463.67 Q70.4226 1463.67 67.344 1459.08 Q64.2884 1454.48 64.2884 1445.75 Q64.2884 1437 67.344 1432.42 Q70.4226 1427.81 76.2328 1427.81 Z\" fill=\"#000000\" fill-rule=\"evenodd\" fill-opacity=\"1\" /><path clip-path=\"url(#clip760)\" d=\"M 0 0 M71.8578 1157.34 L88.1772 1157.34 L88.1772 1161.28 L66.2328 1161.28 L66.2328 1157.34 Q68.8949 1154.59 73.4782 1149.96 Q78.0846 1145.3 79.2652 1143.96 Q81.5105 1141.44 82.3902 1139.7 Q83.2929 1137.94 83.2929 1136.25 Q83.2929 1133.5 81.3485 1131.76 Q79.4272 1130.03 76.3254 1130.03 Q74.1263 1130.03 71.6726 1130.79 Q69.2421 1131.55 66.4643 1133.1 L66.4643 1128.38 Q69.2884 1127.25 71.7421 1126.67 Q74.1958 1126.09 76.2328 1126.09 Q81.6031 1126.09 84.7976 1128.78 Q87.992 1131.46 87.992 1135.95 Q87.992 1138.08 87.1818 1140 Q86.3948 1141.9 84.2883 1144.49 Q83.7096 1145.16 80.6078 1148.38 Q77.5059 1151.58 71.8578 1157.34 Z\" fill=\"#000000\" fill-rule=\"evenodd\" fill-opacity=\"1\" /><path clip-path=\"url(#clip760)\" d=\"M 0 0 M78.5939 829.07 L66.7884 847.519 L78.5939 847.519 L78.5939 829.07 M77.367 824.996 L83.2466 824.996 L83.2466 847.519 L88.1772 847.519 L88.1772 851.408 L83.2466 851.408 L83.2466 859.556 L78.5939 859.556 L78.5939 851.408 L62.9921 851.408 L62.9921 846.894 L77.367 824.996 Z\" fill=\"#000000\" fill-rule=\"evenodd\" fill-opacity=\"1\" /><path clip-path=\"url(#clip760)\" d=\"M 0 0 M76.6495 538.693 Q73.5013 538.693 71.6495 540.845 Q69.8208 542.998 69.8208 546.748 Q69.8208 550.475 71.6495 552.651 Q73.5013 554.804 76.6495 554.804 Q79.7976 554.804 81.6263 552.651 Q83.4781 550.475 83.4781 546.748 Q83.4781 542.998 81.6263 540.845 Q79.7976 538.693 76.6495 538.693 M85.9318 524.04 L85.9318 528.299 Q84.1726 527.466 82.367 527.026 Q80.5846 526.586 78.8254 526.586 Q74.1958 526.586 71.7421 529.711 Q69.3115 532.836 68.9643 539.156 Q70.33 537.142 72.3902 536.077 Q74.4504 534.989 76.9272 534.989 Q82.1355 534.989 85.1448 538.16 Q88.1772 541.308 88.1772 546.748 Q88.1772 552.072 85.029 555.29 Q81.8809 558.507 76.6495 558.507 Q70.6541 558.507 67.4828 553.924 Q64.3116 549.318 64.3116 540.591 Q64.3116 532.396 68.2004 527.535 Q72.0893 522.651 78.6402 522.651 Q80.3994 522.651 82.1818 522.998 Q83.9874 523.346 85.9318 524.04 Z\" fill=\"#000000\" fill-rule=\"evenodd\" fill-opacity=\"1\" /><path clip-path=\"url(#clip760)\" d=\"M 0 0 M76.3254 239.704 Q72.9921 239.704 71.0708 241.487 Q69.1726 243.269 69.1726 246.394 Q69.1726 249.519 71.0708 251.301 Q72.9921 253.084 76.3254 253.084 Q79.6587 253.084 81.58 251.301 Q83.5013 249.496 83.5013 246.394 Q83.5013 243.269 81.58 241.487 Q79.6819 239.704 76.3254 239.704 M71.6495 237.714 Q68.6402 236.973 66.9504 234.913 Q65.2838 232.852 65.2838 229.89 Q65.2838 225.746 68.2236 223.339 Q71.1865 220.931 76.3254 220.931 Q81.4874 220.931 84.4272 223.339 Q87.367 225.746 87.367 229.89 Q87.367 232.852 85.6772 234.913 Q84.0105 236.973 81.0244 237.714 Q84.404 238.501 86.279 240.792 Q88.1772 243.084 88.1772 246.394 Q88.1772 251.417 85.0985 254.102 Q82.0429 256.788 76.3254 256.788 Q70.6078 256.788 67.5291 254.102 Q64.4736 251.417 64.4736 246.394 Q64.4736 243.084 66.3717 240.792 Q68.2699 238.501 71.6495 237.714 M69.9365 230.329 Q69.9365 233.014 71.6032 234.519 Q73.293 236.024 76.3254 236.024 Q79.3346 236.024 81.0244 234.519 Q82.7374 233.014 82.7374 230.329 Q82.7374 227.644 81.0244 226.14 Q79.3346 224.635 76.3254 224.635 Q73.293 224.635 71.6032 226.14 Q69.9365 227.644 69.9365 230.329 Z\" fill=\"#000000\" fill-rule=\"evenodd\" fill-opacity=\"1\" /><polyline clip-path=\"url(#clip762)\" style=\"stroke:#009af9; stroke-width:4; stroke-opacity:1; fill:none\" points=\"\n",
       "  175.59,1445.72 410.451,1294.86 645.313,1144 880.174,993.136 1115.04,842.276 1349.9,691.416 1584.76,540.556 1819.62,389.696 2054.48,238.836 2289.34,87.9763 \n",
       "  \n",
       "  \"/>\n",
       "<path clip-path=\"url(#clip760)\" d=\"\n",
       "M1989.74 251.724 L2280.76 251.724 L2280.76 130.764 L1989.74 130.764  Z\n",
       "  \" fill=\"#ffffff\" fill-rule=\"evenodd\" fill-opacity=\"1\"/>\n",
       "<polyline clip-path=\"url(#clip760)\" style=\"stroke:#000000; stroke-width:4; stroke-opacity:1; fill:none\" points=\"\n",
       "  1989.74,251.724 2280.76,251.724 2280.76,130.764 1989.74,130.764 1989.74,251.724 \n",
       "  \"/>\n",
       "<polyline clip-path=\"url(#clip760)\" style=\"stroke:#009af9; stroke-width:4; stroke-opacity:1; fill:none\" points=\"\n",
       "  2013.74,191.244 2157.74,191.244 \n",
       "  \"/>\n",
       "<path clip-path=\"url(#clip760)\" d=\"M 0 0 M2195.58 210.931 Q2193.77 215.561 2192.06 216.973 Q2190.35 218.385 2187.48 218.385 L2184.08 218.385 L2184.08 214.82 L2186.58 214.82 Q2188.33 214.82 2189.31 213.987 Q2190.28 213.154 2191.46 210.052 L2192.22 208.107 L2181.74 182.598 L2186.25 182.598 L2194.35 202.876 L2202.46 182.598 L2206.97 182.598 L2195.58 210.931 Z\" fill=\"#000000\" fill-rule=\"evenodd\" fill-opacity=\"1\" /><path clip-path=\"url(#clip760)\" d=\"M 0 0 M2212.85 204.589 L2220.49 204.589 L2220.49 178.223 L2212.18 179.89 L2212.18 175.631 L2220.44 173.964 L2225.12 173.964 L2225.12 204.589 L2232.76 204.589 L2232.76 208.524 L2212.85 208.524 L2212.85 204.589 Z\" fill=\"#000000\" fill-rule=\"evenodd\" fill-opacity=\"1\" /></svg>\n"
      ]
     },
     "execution_count": 46,
     "metadata": {},
     "output_type": "execute_result"
    }
   ],
   "source": [
    "using Plots\n",
    "plot([w1d_traj[i].x for i in 1:10])"
   ]
  },
  {
   "cell_type": "code",
   "execution_count": 47,
   "metadata": {},
   "outputs": [
    {
     "data": {
      "text/plain": [
       "move (generic function with 3 methods)"
      ]
     },
     "execution_count": 47,
     "metadata": {},
     "output_type": "execute_result"
    }
   ],
   "source": [
    "random_jump() = rand( (-1, +1) )\n",
    "\n",
    "move(w::Walker2D) = Walker2D(w.x + random_jump(), w.y + random_jump())"
   ]
  },
  {
   "cell_type": "code",
   "execution_count": 48,
   "metadata": {},
   "outputs": [
    {
     "data": {
      "text/plain": [
       "11-element Array{Walker2D,1}:\n",
       " Walker2D(0, 0)\n",
       " Walker2D(-1, -1)\n",
       " Walker2D(-2, 0)\n",
       " Walker2D(-3, 1)\n",
       " Walker2D(-2, 2)\n",
       " Walker2D(-3, 1)\n",
       " Walker2D(-2, 0)\n",
       " Walker2D(-3, 1)\n",
       " Walker2D(-4, 2)\n",
       " Walker2D(-5, 1)\n",
       " Walker2D(-4, 2)"
      ]
     },
     "execution_count": 48,
     "metadata": {},
     "output_type": "execute_result"
    }
   ],
   "source": [
    "y_0 = 0\n",
    "my_w2d = Walker2D(x_0,y_0)\n",
    "w2d_traj = walk(my_w2d,T)"
   ]
  },
  {
   "cell_type": "code",
   "execution_count": 49,
   "metadata": {},
   "outputs": [
    {
     "data": {
      "image/svg+xml": [
       "<?xml version=\"1.0\" encoding=\"utf-8\"?>\n",
       "<svg xmlns=\"http://www.w3.org/2000/svg\" xmlns:xlink=\"http://www.w3.org/1999/xlink\" width=\"600\" height=\"400\" viewBox=\"0 0 2400 1600\">\n",
       "<defs>\n",
       "  <clipPath id=\"clip800\">\n",
       "    <rect x=\"0\" y=\"0\" width=\"2400\" height=\"1600\"/>\n",
       "  </clipPath>\n",
       "</defs>\n",
       "<path clip-path=\"url(#clip800)\" d=\"\n",
       "M0 1600 L2400 1600 L2400 0 L0 0  Z\n",
       "  \" fill=\"#ffffff\" fill-rule=\"evenodd\" fill-opacity=\"1\"/>\n",
       "<defs>\n",
       "  <clipPath id=\"clip801\">\n",
       "    <rect x=\"480\" y=\"0\" width=\"1681\" height=\"1600\"/>\n",
       "  </clipPath>\n",
       "</defs>\n",
       "<path clip-path=\"url(#clip800)\" d=\"\n",
       "M125.256 1486.45 L2352.76 1486.45 L2352.76 47.2441 L125.256 47.2441  Z\n",
       "  \" fill=\"#ffffff\" fill-rule=\"evenodd\" fill-opacity=\"1\"/>\n",
       "<defs>\n",
       "  <clipPath id=\"clip802\">\n",
       "    <rect x=\"125\" y=\"47\" width=\"2229\" height=\"1440\"/>\n",
       "  </clipPath>\n",
       "</defs>\n",
       "<polyline clip-path=\"url(#clip802)\" style=\"stroke:#000000; stroke-width:2; stroke-opacity:0.1; fill:none\" points=\"\n",
       "  188.298,1486.45 188.298,47.2441 \n",
       "  \"/>\n",
       "<polyline clip-path=\"url(#clip802)\" style=\"stroke:#000000; stroke-width:2; stroke-opacity:0.1; fill:none\" points=\"\n",
       "  608.581,1486.45 608.581,47.2441 \n",
       "  \"/>\n",
       "<polyline clip-path=\"url(#clip802)\" style=\"stroke:#000000; stroke-width:2; stroke-opacity:0.1; fill:none\" points=\"\n",
       "  1028.86,1486.45 1028.86,47.2441 \n",
       "  \"/>\n",
       "<polyline clip-path=\"url(#clip802)\" style=\"stroke:#000000; stroke-width:2; stroke-opacity:0.1; fill:none\" points=\"\n",
       "  1449.15,1486.45 1449.15,47.2441 \n",
       "  \"/>\n",
       "<polyline clip-path=\"url(#clip802)\" style=\"stroke:#000000; stroke-width:2; stroke-opacity:0.1; fill:none\" points=\"\n",
       "  1869.43,1486.45 1869.43,47.2441 \n",
       "  \"/>\n",
       "<polyline clip-path=\"url(#clip802)\" style=\"stroke:#000000; stroke-width:2; stroke-opacity:0.1; fill:none\" points=\"\n",
       "  2289.71,1486.45 2289.71,47.2441 \n",
       "  \"/>\n",
       "<polyline clip-path=\"url(#clip802)\" style=\"stroke:#000000; stroke-width:2; stroke-opacity:0.1; fill:none\" points=\"\n",
       "  125.256,1445.72 2352.76,1445.72 \n",
       "  \"/>\n",
       "<polyline clip-path=\"url(#clip802)\" style=\"stroke:#000000; stroke-width:2; stroke-opacity:0.1; fill:none\" points=\"\n",
       "  125.256,993.136 2352.76,993.136 \n",
       "  \"/>\n",
       "<polyline clip-path=\"url(#clip802)\" style=\"stroke:#000000; stroke-width:2; stroke-opacity:0.1; fill:none\" points=\"\n",
       "  125.256,540.556 2352.76,540.556 \n",
       "  \"/>\n",
       "<polyline clip-path=\"url(#clip802)\" style=\"stroke:#000000; stroke-width:2; stroke-opacity:0.1; fill:none\" points=\"\n",
       "  125.256,87.9763 2352.76,87.9763 \n",
       "  \"/>\n",
       "<polyline clip-path=\"url(#clip800)\" style=\"stroke:#000000; stroke-width:4; stroke-opacity:1; fill:none\" points=\"\n",
       "  125.256,1486.45 2352.76,1486.45 \n",
       "  \"/>\n",
       "<polyline clip-path=\"url(#clip800)\" style=\"stroke:#000000; stroke-width:4; stroke-opacity:1; fill:none\" points=\"\n",
       "  125.256,1486.45 125.256,47.2441 \n",
       "  \"/>\n",
       "<polyline clip-path=\"url(#clip800)\" style=\"stroke:#000000; stroke-width:4; stroke-opacity:1; fill:none\" points=\"\n",
       "  188.298,1486.45 188.298,1469.18 \n",
       "  \"/>\n",
       "<polyline clip-path=\"url(#clip800)\" style=\"stroke:#000000; stroke-width:4; stroke-opacity:1; fill:none\" points=\"\n",
       "  608.581,1486.45 608.581,1469.18 \n",
       "  \"/>\n",
       "<polyline clip-path=\"url(#clip800)\" style=\"stroke:#000000; stroke-width:4; stroke-opacity:1; fill:none\" points=\"\n",
       "  1028.86,1486.45 1028.86,1469.18 \n",
       "  \"/>\n",
       "<polyline clip-path=\"url(#clip800)\" style=\"stroke:#000000; stroke-width:4; stroke-opacity:1; fill:none\" points=\"\n",
       "  1449.15,1486.45 1449.15,1469.18 \n",
       "  \"/>\n",
       "<polyline clip-path=\"url(#clip800)\" style=\"stroke:#000000; stroke-width:4; stroke-opacity:1; fill:none\" points=\"\n",
       "  1869.43,1486.45 1869.43,1469.18 \n",
       "  \"/>\n",
       "<polyline clip-path=\"url(#clip800)\" style=\"stroke:#000000; stroke-width:4; stroke-opacity:1; fill:none\" points=\"\n",
       "  2289.71,1486.45 2289.71,1469.18 \n",
       "  \"/>\n",
       "<polyline clip-path=\"url(#clip800)\" style=\"stroke:#000000; stroke-width:4; stroke-opacity:1; fill:none\" points=\"\n",
       "  125.256,1445.72 151.986,1445.72 \n",
       "  \"/>\n",
       "<polyline clip-path=\"url(#clip800)\" style=\"stroke:#000000; stroke-width:4; stroke-opacity:1; fill:none\" points=\"\n",
       "  125.256,993.136 151.986,993.136 \n",
       "  \"/>\n",
       "<polyline clip-path=\"url(#clip800)\" style=\"stroke:#000000; stroke-width:4; stroke-opacity:1; fill:none\" points=\"\n",
       "  125.256,540.556 151.986,540.556 \n",
       "  \"/>\n",
       "<polyline clip-path=\"url(#clip800)\" style=\"stroke:#000000; stroke-width:4; stroke-opacity:1; fill:none\" points=\"\n",
       "  125.256,87.9763 151.986,87.9763 \n",
       "  \"/>\n",
       "<path clip-path=\"url(#clip800)\" d=\"M 0 0 M169.051 1525.04 L181.527 1525.04 L181.527 1528.83 L169.051 1528.83 L169.051 1525.04 Z\" fill=\"#000000\" fill-rule=\"evenodd\" fill-opacity=\"1\" /><path clip-path=\"url(#clip800)\" d=\"M 0 0 M186.643 1505.36 L205 1505.36 L205 1509.3 L190.926 1509.3 L190.926 1517.77 Q191.944 1517.42 192.963 1517.26 Q193.981 1517.07 195 1517.07 Q200.787 1517.07 204.166 1520.24 Q207.546 1523.42 207.546 1528.83 Q207.546 1534.41 204.074 1537.51 Q200.601 1540.59 194.282 1540.59 Q192.106 1540.59 189.838 1540.22 Q187.592 1539.85 185.185 1539.11 L185.185 1534.41 Q187.268 1535.54 189.49 1536.1 Q191.713 1536.66 194.189 1536.66 Q198.194 1536.66 200.532 1534.55 Q202.87 1532.44 202.87 1528.83 Q202.87 1525.22 200.532 1523.11 Q198.194 1521.01 194.189 1521.01 Q192.314 1521.01 190.439 1521.42 Q188.588 1521.84 186.643 1522.72 L186.643 1505.36 Z\" fill=\"#000000\" fill-rule=\"evenodd\" fill-opacity=\"1\" /><path clip-path=\"url(#clip800)\" d=\"M 0 0 M588.593 1525.04 L601.07 1525.04 L601.07 1528.83 L588.593 1528.83 L588.593 1525.04 Z\" fill=\"#000000\" fill-rule=\"evenodd\" fill-opacity=\"1\" /><path clip-path=\"url(#clip800)\" d=\"M 0 0 M618.986 1509.43 L607.181 1527.88 L618.986 1527.88 L618.986 1509.43 M617.759 1505.36 L623.639 1505.36 L623.639 1527.88 L628.57 1527.88 L628.57 1531.77 L623.639 1531.77 L623.639 1539.92 L618.986 1539.92 L618.986 1531.77 L603.385 1531.77 L603.385 1527.26 L617.759 1505.36 Z\" fill=\"#000000\" fill-rule=\"evenodd\" fill-opacity=\"1\" /><path clip-path=\"url(#clip800)\" d=\"M 0 0 M1009.44 1525.04 L1021.92 1525.04 L1021.92 1528.83 L1009.44 1528.83 L1009.44 1525.04 Z\" fill=\"#000000\" fill-rule=\"evenodd\" fill-opacity=\"1\" /><path clip-path=\"url(#clip800)\" d=\"M 0 0 M1041.16 1521.29 Q1044.51 1522 1046.39 1524.27 Q1048.29 1526.54 1048.29 1529.87 Q1048.29 1534.99 1044.77 1537.79 Q1041.25 1540.59 1034.77 1540.59 Q1032.59 1540.59 1030.28 1540.15 Q1027.98 1539.73 1025.53 1538.88 L1025.53 1534.36 Q1027.48 1535.5 1029.79 1536.08 Q1032.11 1536.66 1034.63 1536.66 Q1039.03 1536.66 1041.32 1534.92 Q1043.63 1533.18 1043.63 1529.87 Q1043.63 1526.82 1041.48 1525.11 Q1039.35 1523.37 1035.53 1523.37 L1031.5 1523.37 L1031.5 1519.53 L1035.72 1519.53 Q1039.17 1519.53 1040.99 1518.16 Q1042.82 1516.77 1042.82 1514.18 Q1042.82 1511.52 1040.92 1510.11 Q1039.05 1508.67 1035.53 1508.67 Q1033.61 1508.67 1031.41 1509.09 Q1029.21 1509.5 1026.57 1510.38 L1026.57 1506.22 Q1029.23 1505.48 1031.55 1505.11 Q1033.89 1504.73 1035.95 1504.73 Q1041.27 1504.73 1044.37 1507.17 Q1047.48 1509.57 1047.48 1513.69 Q1047.48 1516.56 1045.83 1518.55 Q1044.19 1520.52 1041.16 1521.29 Z\" fill=\"#000000\" fill-rule=\"evenodd\" fill-opacity=\"1\" /><path clip-path=\"url(#clip800)\" d=\"M 0 0 M1430.2 1525.04 L1442.68 1525.04 L1442.68 1528.83 L1430.2 1528.83 L1430.2 1525.04 Z\" fill=\"#000000\" fill-rule=\"evenodd\" fill-opacity=\"1\" /><path clip-path=\"url(#clip800)\" d=\"M 0 0 M1451.77 1535.98 L1468.09 1535.98 L1468.09 1539.92 L1446.15 1539.92 L1446.15 1535.98 Q1448.81 1533.23 1453.4 1528.6 Q1458 1523.95 1459.18 1522.61 Q1461.43 1520.08 1462.31 1518.35 Q1463.21 1516.59 1463.21 1514.9 Q1463.21 1512.14 1461.27 1510.41 Q1459.34 1508.67 1456.24 1508.67 Q1454.04 1508.67 1451.59 1509.43 Q1449.16 1510.2 1446.38 1511.75 L1446.38 1507.03 Q1449.21 1505.89 1451.66 1505.31 Q1454.11 1504.73 1456.15 1504.73 Q1461.52 1504.73 1464.71 1507.42 Q1467.91 1510.11 1467.91 1514.6 Q1467.91 1516.73 1467.1 1518.65 Q1466.31 1520.54 1464.21 1523.14 Q1463.63 1523.81 1460.52 1527.03 Q1457.42 1530.22 1451.77 1535.98 Z\" fill=\"#000000\" fill-rule=\"evenodd\" fill-opacity=\"1\" /><path clip-path=\"url(#clip800)\" d=\"M 0 0 M1850.3 1525.04 L1862.78 1525.04 L1862.78 1528.83 L1850.3 1528.83 L1850.3 1525.04 Z\" fill=\"#000000\" fill-rule=\"evenodd\" fill-opacity=\"1\" /><path clip-path=\"url(#clip800)\" d=\"M 0 0 M1868.65 1535.98 L1876.29 1535.98 L1876.29 1509.62 L1867.98 1511.29 L1867.98 1507.03 L1876.25 1505.36 L1880.92 1505.36 L1880.92 1535.98 L1888.56 1535.98 L1888.56 1539.92 L1868.65 1539.92 L1868.65 1535.98 Z\" fill=\"#000000\" fill-rule=\"evenodd\" fill-opacity=\"1\" /><path clip-path=\"url(#clip800)\" d=\"M 0 0 M2289.71 1508.44 Q2286.1 1508.44 2284.27 1512 Q2282.47 1515.55 2282.47 1522.67 Q2282.47 1529.78 2284.27 1533.35 Q2286.1 1536.89 2289.71 1536.89 Q2293.35 1536.89 2295.15 1533.35 Q2296.98 1529.78 2296.98 1522.67 Q2296.98 1515.55 2295.15 1512 Q2293.35 1508.44 2289.71 1508.44 M2289.71 1504.73 Q2295.52 1504.73 2298.58 1509.34 Q2301.66 1513.92 2301.66 1522.67 Q2301.66 1531.4 2298.58 1536.01 Q2295.52 1540.59 2289.71 1540.59 Q2283.9 1540.59 2280.82 1536.01 Q2277.77 1531.4 2277.77 1522.67 Q2277.77 1513.92 2280.82 1509.34 Q2283.9 1504.73 2289.71 1504.73 Z\" fill=\"#000000\" fill-rule=\"evenodd\" fill-opacity=\"1\" /><path clip-path=\"url(#clip800)\" d=\"M 0 0 M62.9921 1448.11 L75.4689 1448.11 L75.4689 1451.91 L62.9921 1451.91 L62.9921 1448.11 Z\" fill=\"#000000\" fill-rule=\"evenodd\" fill-opacity=\"1\" /><path clip-path=\"url(#clip800)\" d=\"M 0 0 M81.3485 1459.06 L88.9874 1459.06 L88.9874 1432.69 L80.6772 1434.36 L80.6772 1430.1 L88.9411 1428.44 L93.617 1428.44 L93.617 1459.06 L101.256 1459.06 L101.256 1463 L81.3485 1463 L81.3485 1459.06 Z\" fill=\"#000000\" fill-rule=\"evenodd\" fill-opacity=\"1\" /><path clip-path=\"url(#clip800)\" d=\"M 0 0 M89.3114 978.935 Q85.7003 978.935 83.8716 982.499 Q82.0661 986.041 82.0661 993.171 Q82.0661 1000.28 83.8716 1003.84 Q85.7003 1007.38 89.3114 1007.38 Q92.9457 1007.38 94.7512 1003.84 Q96.5799 1000.28 96.5799 993.171 Q96.5799 986.041 94.7512 982.499 Q92.9457 978.935 89.3114 978.935 M89.3114 975.231 Q95.1216 975.231 98.1771 979.837 Q101.256 984.421 101.256 993.171 Q101.256 1001.9 98.1771 1006.5 Q95.1216 1011.09 89.3114 1011.09 Q83.5013 1011.09 80.4226 1006.5 Q77.367 1001.9 77.367 993.171 Q77.367 984.421 80.4226 979.837 Q83.5013 975.231 89.3114 975.231 Z\" fill=\"#000000\" fill-rule=\"evenodd\" fill-opacity=\"1\" /><path clip-path=\"url(#clip800)\" d=\"M 0 0 M81.3485 553.901 L88.9874 553.901 L88.9874 527.535 L80.6772 529.202 L80.6772 524.943 L88.9411 523.276 L93.617 523.276 L93.617 553.901 L101.256 553.901 L101.256 557.836 L81.3485 557.836 L81.3485 553.901 Z\" fill=\"#000000\" fill-rule=\"evenodd\" fill-opacity=\"1\" /><path clip-path=\"url(#clip800)\" d=\"M 0 0 M84.9365 101.321 L101.256 101.321 L101.256 105.256 L79.3115 105.256 L79.3115 101.321 Q81.9735 98.5665 86.5568 93.9369 Q91.1633 89.2841 92.3438 87.9416 Q94.5892 85.4184 95.4688 83.6823 Q96.3716 81.9231 96.3716 80.2333 Q96.3716 77.4786 94.4271 75.7425 Q92.5059 74.0064 89.404 74.0064 Q87.205 74.0064 84.7513 74.7703 Q82.3207 75.5342 79.543 77.0851 L79.543 72.3629 Q82.367 71.2287 84.8207 70.65 Q87.2744 70.0713 89.3114 70.0713 Q94.6818 70.0713 97.8762 72.7565 Q101.071 75.4416 101.071 79.9323 Q101.071 82.062 100.26 83.9832 Q99.4734 85.8814 97.3669 88.474 Q96.7882 89.1453 93.6864 92.3628 Q90.5846 95.5573 84.9365 101.321 Z\" fill=\"#000000\" fill-rule=\"evenodd\" fill-opacity=\"1\" /><polyline clip-path=\"url(#clip802)\" style=\"stroke:#009af9; stroke-width:4; stroke-opacity:1; fill:none\" points=\"\n",
       "  2289.71,993.136 1869.43,1445.72 1449.15,993.136 1028.86,540.556 1449.15,87.9763 1028.86,540.556 1449.15,993.136 1028.86,540.556 608.581,87.9763 188.298,540.556 \n",
       "  \n",
       "  \"/>\n",
       "<path clip-path=\"url(#clip800)\" d=\"\n",
       "M1989.74 251.724 L2280.76 251.724 L2280.76 130.764 L1989.74 130.764  Z\n",
       "  \" fill=\"#ffffff\" fill-rule=\"evenodd\" fill-opacity=\"1\"/>\n",
       "<polyline clip-path=\"url(#clip800)\" style=\"stroke:#000000; stroke-width:4; stroke-opacity:1; fill:none\" points=\"\n",
       "  1989.74,251.724 2280.76,251.724 2280.76,130.764 1989.74,130.764 1989.74,251.724 \n",
       "  \"/>\n",
       "<polyline clip-path=\"url(#clip800)\" style=\"stroke:#009af9; stroke-width:4; stroke-opacity:1; fill:none\" points=\"\n",
       "  2013.74,191.244 2157.74,191.244 \n",
       "  \"/>\n",
       "<path clip-path=\"url(#clip800)\" d=\"M 0 0 M2195.58 210.931 Q2193.77 215.561 2192.06 216.973 Q2190.35 218.385 2187.48 218.385 L2184.08 218.385 L2184.08 214.82 L2186.58 214.82 Q2188.33 214.82 2189.31 213.987 Q2190.28 213.154 2191.46 210.052 L2192.22 208.107 L2181.74 182.598 L2186.25 182.598 L2194.35 202.876 L2202.46 182.598 L2206.97 182.598 L2195.58 210.931 Z\" fill=\"#000000\" fill-rule=\"evenodd\" fill-opacity=\"1\" /><path clip-path=\"url(#clip800)\" d=\"M 0 0 M2212.85 204.589 L2220.49 204.589 L2220.49 178.223 L2212.18 179.89 L2212.18 175.631 L2220.44 173.964 L2225.12 173.964 L2225.12 204.589 L2232.76 204.589 L2232.76 208.524 L2212.85 208.524 L2212.85 204.589 Z\" fill=\"#000000\" fill-rule=\"evenodd\" fill-opacity=\"1\" /></svg>\n"
      ]
     },
     "execution_count": 49,
     "metadata": {},
     "output_type": "execute_result"
    }
   ],
   "source": [
    "plot([w2d_traj[i].x for i in 1:10], [w2d_traj[i].y for i in 1:10])"
   ]
  },
  {
   "cell_type": "code",
   "execution_count": 50,
   "metadata": {},
   "outputs": [
    {
     "data": {
      "application/vnd.webio.node+json": {
       "children": [
        {
         "children": [
          {
           "children": [
            {
             "children": [
              {
               "children": [
                {
                 "children": [
                  "t"
                 ],
                 "instanceArgs": {
                  "namespace": "html",
                  "tag": "label"
                 },
                 "nodeType": "DOM",
                 "props": {
                  "className": "interact ",
                  "style": {
                   "padding": "5px 10px 0px 10px"
                  }
                 },
                 "type": "node"
                }
               ],
               "instanceArgs": {
                "namespace": "html",
                "tag": "div"
               },
               "nodeType": "DOM",
               "props": {
                "className": "interact-flex-row-left"
               },
               "type": "node"
              },
              {
               "children": [
                {
                 "children": [],
                 "instanceArgs": {
                  "namespace": "html",
                  "tag": "input"
                 },
                 "nodeType": "DOM",
                 "props": {
                  "attributes": {
                   "data-bind": "numericValue: index, valueUpdate: 'input', event: {change: function (){this.changes(this.changes()+1)}}",
                   "orient": "horizontal",
                   "type": "range"
                  },
                  "className": "slider slider is-fullwidth",
                  "max": 10,
                  "min": 1,
                  "step": 1,
                  "style": {}
                 },
                 "type": "node"
                }
               ],
               "instanceArgs": {
                "namespace": "html",
                "tag": "div"
               },
               "nodeType": "DOM",
               "props": {
                "className": "interact-flex-row-center"
               },
               "type": "node"
              },
              {
               "children": [
                {
                 "children": [],
                 "instanceArgs": {
                  "namespace": "html",
                  "tag": "p"
                 },
                 "nodeType": "DOM",
                 "props": {
                  "attributes": {
                   "data-bind": "text: formatted_val"
                  }
                 },
                 "type": "node"
                }
               ],
               "instanceArgs": {
                "namespace": "html",
                "tag": "div"
               },
               "nodeType": "DOM",
               "props": {
                "className": "interact-flex-row-right"
               },
               "type": "node"
              }
             ],
             "instanceArgs": {
              "namespace": "html",
              "tag": "div"
             },
             "nodeType": "DOM",
             "props": {
              "className": "interact-flex-row interact-widget"
             },
             "type": "node"
            }
           ],
           "instanceArgs": {
            "handlers": {
             "changes": [
              "(function (val){return (val!=this.model[\"changes\"]()) ? (this.valueFromJulia[\"changes\"]=true, this.model[\"changes\"](val)) : undefined})"
             ],
             "index": [
              "(function (val){return (val!=this.model[\"index\"]()) ? (this.valueFromJulia[\"index\"]=true, this.model[\"index\"](val)) : undefined})"
             ]
            },
            "id": "1955834893786511744",
            "imports": {
             "data": [
              {
               "name": "knockout",
               "type": "js",
               "url": "/assetserver/2326d6b34977b8e04829463a575d1372afbef7fb-knockout.js"
              },
              {
               "name": "knockout_punches",
               "type": "js",
               "url": "/assetserver/bd9b3d6b4334db0c94ca6aaca7469b0af8ae6fc1-knockout_punches.js"
              },
              {
               "name": null,
               "type": "js",
               "url": "/assetserver/76777801d72192034aca61bcf4b4e0ac8394ec00-all.js"
              },
              {
               "name": null,
               "type": "css",
               "url": "/assetserver/3d4e1bec5fa2352c3864150bc24804c2bea1a521-style.css"
              },
              {
               "name": null,
               "type": "css",
               "url": "/assetserver/d390ab4d589f221c90029963f124908ed3c29f3e-bulma_confined.min.css"
              }
             ],
             "type": "async_block"
            },
            "mount_callbacks": [
             "function () {\n    var handler = (function (ko, koPunches) {\n    ko.punches.enableAll();\n    ko.bindingHandlers.numericValue = {\n        init: function(element, valueAccessor, allBindings, data, context) {\n            var stringified = ko.observable(ko.unwrap(valueAccessor()));\n            stringified.subscribe(function(value) {\n                var val = parseFloat(value);\n                if (!isNaN(val)) {\n                    valueAccessor()(val);\n                }\n            });\n            valueAccessor().subscribe(function(value) {\n                var str = JSON.stringify(value);\n                if ((str == \"0\") && ([\"-0\", \"-0.\"].indexOf(stringified()) >= 0))\n                     return;\n                 if ([\"null\", \"\"].indexOf(str) >= 0)\n                     return;\n                stringified(str);\n            });\n            ko.applyBindingsToNode(\n                element,\n                {\n                    value: stringified,\n                    valueUpdate: allBindings.get('valueUpdate'),\n                },\n                context,\n            );\n        }\n    };\n    var json_data = {\"formatted_vals\":[\"1\",\"2\",\"3\",\"4\",\"5\",\"6\",\"7\",\"8\",\"9\",\"10\"],\"changes\":WebIO.getval({\"name\":\"changes\",\"scope\":\"1955834893786511744\",\"id\":\"5465237600612397950\",\"type\":\"observable\"}),\"index\":WebIO.getval({\"name\":\"index\",\"scope\":\"1955834893786511744\",\"id\":\"18147437632514993004\",\"type\":\"observable\"})};\n    var self = this;\n    function AppViewModel() {\n        for (var key in json_data) {\n            var el = json_data[key];\n            this[key] = Array.isArray(el) ? ko.observableArray(el) : ko.observable(el);\n        }\n        \n        [this[\"formatted_val\"]=ko.computed(    function(){\n        return this.formatted_vals()[parseInt(this.index())-(1)];\n    }\n,this)]\n        [this[\"changes\"].subscribe((function (val){!(this.valueFromJulia[\"changes\"]) ? (WebIO.setval({\"name\":\"changes\",\"scope\":\"1955834893786511744\",\"id\":\"5465237600612397950\",\"type\":\"observable\"},val)) : undefined; return this.valueFromJulia[\"changes\"]=false}),self),this[\"index\"].subscribe((function (val){!(this.valueFromJulia[\"index\"]) ? (WebIO.setval({\"name\":\"index\",\"scope\":\"1955834893786511744\",\"id\":\"18147437632514993004\",\"type\":\"observable\"},val)) : undefined; return this.valueFromJulia[\"index\"]=false}),self)]\n        \n    }\n    self.model = new AppViewModel();\n    self.valueFromJulia = {};\n    for (var key in json_data) {\n        self.valueFromJulia[key] = false;\n    }\n    ko.applyBindings(self.model, self.dom);\n}\n);\n    (WebIO.importBlock({\"data\":[{\"name\":\"knockout\",\"type\":\"js\",\"url\":\"/assetserver/2326d6b34977b8e04829463a575d1372afbef7fb-knockout.js\"},{\"name\":\"knockout_punches\",\"type\":\"js\",\"url\":\"/assetserver/bd9b3d6b4334db0c94ca6aaca7469b0af8ae6fc1-knockout_punches.js\"}],\"type\":\"async_block\"})).then((imports) => handler.apply(this, imports));\n}\n"
            ],
            "observables": {
             "changes": {
              "id": "5465237600612397950",
              "sync": false,
              "value": 0
             },
             "index": {
              "id": "18147437632514993004",
              "sync": true,
              "value": 5
             }
            },
            "systemjs_options": null
           },
           "nodeType": "Scope",
           "props": {},
           "type": "node"
          }
         ],
         "instanceArgs": {
          "namespace": "html",
          "tag": "div"
         },
         "nodeType": "DOM",
         "props": {
          "className": "field interact-widget"
         },
         "type": "node"
        },
        {
         "children": [
          {
           "children": [],
           "instanceArgs": {
            "id": "6984200496039763819",
            "name": "obs-node"
           },
           "nodeType": "ObservableNode",
           "props": {},
           "type": "node"
          }
         ],
         "instanceArgs": {
          "handlers": {},
          "id": "5912701802083440662",
          "imports": {
           "data": [],
           "type": "async_block"
          },
          "mount_callbacks": [],
          "observables": {
           "obs-node": {
            "id": "6984200496039763819",
            "sync": false,
            "value": {
             "children": [
              {
               "children": [],
               "instanceArgs": {
                "namespace": "html",
                "tag": "div"
               },
               "nodeType": "DOM",
               "props": {
                "setInnerHtml": "<?xml version=\"1.0\" encoding=\"utf-8\"?>\n<svg xmlns=\"http://www.w3.org/2000/svg\" xmlns:xlink=\"http://www.w3.org/1999/xlink\" width=\"600\" height=\"400\" viewBox=\"0 0 2400 1600\">\n<defs>\n  <clipPath id=\"clip880\">\n    <rect x=\"0\" y=\"0\" width=\"2400\" height=\"1600\"/>\n  </clipPath>\n</defs>\n<path clip-path=\"url(#clip880)\" d=\"\nM0 1600 L2400 1600 L2400 0 L0 0  Z\n  \" fill=\"#ffffff\" fill-rule=\"evenodd\" fill-opacity=\"1\"/>\n<defs>\n  <clipPath id=\"clip881\">\n    <rect x=\"480\" y=\"0\" width=\"1681\" height=\"1600\"/>\n  </clipPath>\n</defs>\n<path clip-path=\"url(#clip880)\" d=\"\nM152.27 1486.45 L2352.76 1486.45 L2352.76 47.2441 L152.27 47.2441  Z\n  \" fill=\"#ffffff\" fill-rule=\"evenodd\" fill-opacity=\"1\"/>\n<defs>\n  <clipPath id=\"clip882\">\n    <rect x=\"152\" y=\"47\" width=\"2201\" height=\"1440\"/>\n  </clipPath>\n</defs>\n<polyline clip-path=\"url(#clip882)\" style=\"stroke:#000000; stroke-width:2; stroke-opacity:0.1; fill:none\" points=\"\n  152.27,1486.45 152.27,47.2441 \n  \"/>\n<polyline clip-path=\"url(#clip882)\" style=\"stroke:#000000; stroke-width:2; stroke-opacity:0.1; fill:none\" points=\"\n  702.391,1486.45 702.391,47.2441 \n  \"/>\n<polyline clip-path=\"url(#clip882)\" style=\"stroke:#000000; stroke-width:2; stroke-opacity:0.1; fill:none\" points=\"\n  1252.51,1486.45 1252.51,47.2441 \n  \"/>\n<polyline clip-path=\"url(#clip882)\" style=\"stroke:#000000; stroke-width:2; stroke-opacity:0.1; fill:none\" points=\"\n  1802.63,1486.45 1802.63,47.2441 \n  \"/>\n<polyline clip-path=\"url(#clip882)\" style=\"stroke:#000000; stroke-width:2; stroke-opacity:0.1; fill:none\" points=\"\n  2352.76,1486.45 2352.76,47.2441 \n  \"/>\n<polyline clip-path=\"url(#clip882)\" style=\"stroke:#000000; stroke-width:2; stroke-opacity:0.1; fill:none\" points=\"\n  152.27,1486.45 2352.76,1486.45 \n  \"/>\n<polyline clip-path=\"url(#clip882)\" style=\"stroke:#000000; stroke-width:2; stroke-opacity:0.1; fill:none\" points=\"\n  152.27,1126.65 2352.76,1126.65 \n  \"/>\n<polyline clip-path=\"url(#clip882)\" style=\"stroke:#000000; stroke-width:2; stroke-opacity:0.1; fill:none\" points=\"\n  152.27,766.846 2352.76,766.846 \n  \"/>\n<polyline clip-path=\"url(#clip882)\" style=\"stroke:#000000; stroke-width:2; stroke-opacity:0.1; fill:none\" points=\"\n  152.27,407.045 2352.76,407.045 \n  \"/>\n<polyline clip-path=\"url(#clip882)\" style=\"stroke:#000000; stroke-width:2; stroke-opacity:0.1; fill:none\" points=\"\n  152.27,47.2441 2352.76,47.2441 \n  \"/>\n<polyline clip-path=\"url(#clip880)\" style=\"stroke:#000000; stroke-width:4; stroke-opacity:1; fill:none\" points=\"\n  152.27,1486.45 2352.76,1486.45 \n  \"/>\n<polyline clip-path=\"url(#clip880)\" style=\"stroke:#000000; stroke-width:4; stroke-opacity:1; fill:none\" points=\"\n  152.27,1486.45 152.27,47.2441 \n  \"/>\n<polyline clip-path=\"url(#clip880)\" style=\"stroke:#000000; stroke-width:4; stroke-opacity:1; fill:none\" points=\"\n  152.27,1486.45 152.27,1469.18 \n  \"/>\n<polyline clip-path=\"url(#clip880)\" style=\"stroke:#000000; stroke-width:4; stroke-opacity:1; fill:none\" points=\"\n  702.391,1486.45 702.391,1469.18 \n  \"/>\n<polyline clip-path=\"url(#clip880)\" style=\"stroke:#000000; stroke-width:4; stroke-opacity:1; fill:none\" points=\"\n  1252.51,1486.45 1252.51,1469.18 \n  \"/>\n<polyline clip-path=\"url(#clip880)\" style=\"stroke:#000000; stroke-width:4; stroke-opacity:1; fill:none\" points=\"\n  1802.63,1486.45 1802.63,1469.18 \n  \"/>\n<polyline clip-path=\"url(#clip880)\" style=\"stroke:#000000; stroke-width:4; stroke-opacity:1; fill:none\" points=\"\n  2352.76,1486.45 2352.76,1469.18 \n  \"/>\n<polyline clip-path=\"url(#clip880)\" style=\"stroke:#000000; stroke-width:4; stroke-opacity:1; fill:none\" points=\"\n  152.27,1486.45 178.675,1486.45 \n  \"/>\n<polyline clip-path=\"url(#clip880)\" style=\"stroke:#000000; stroke-width:4; stroke-opacity:1; fill:none\" points=\"\n  152.27,1126.65 178.675,1126.65 \n  \"/>\n<polyline clip-path=\"url(#clip880)\" style=\"stroke:#000000; stroke-width:4; stroke-opacity:1; fill:none\" points=\"\n  152.27,766.846 178.675,766.846 \n  \"/>\n<polyline clip-path=\"url(#clip880)\" style=\"stroke:#000000; stroke-width:4; stroke-opacity:1; fill:none\" points=\"\n  152.27,407.045 178.675,407.045 \n  \"/>\n<polyline clip-path=\"url(#clip880)\" style=\"stroke:#000000; stroke-width:4; stroke-opacity:1; fill:none\" points=\"\n  152.27,47.2441 178.675,47.2441 \n  \"/>\n<path clip-path=\"url(#clip880)\" d=\"M 0 0 M119.631 1525.04 L132.108 1525.04 L132.108 1528.83 L119.631 1528.83 L119.631 1525.04 Z\" fill=\"#000000\" fill-rule=\"evenodd\" fill-opacity=\"1\" /><path clip-path=\"url(#clip880)\" d=\"M 0 0 M137.987 1535.98 L145.626 1535.98 L145.626 1509.62 L137.316 1511.29 L137.316 1507.03 L145.58 1505.36 L150.256 1505.36 L150.256 1535.98 L157.895 1535.98 L157.895 1539.92 L137.987 1539.92 L137.987 1535.98 Z\" fill=\"#000000\" fill-rule=\"evenodd\" fill-opacity=\"1\" /><path clip-path=\"url(#clip880)\" d=\"M 0 0 M172.964 1508.44 Q169.353 1508.44 167.524 1512 Q165.719 1515.55 165.719 1522.67 Q165.719 1529.78 167.524 1533.35 Q169.353 1536.89 172.964 1536.89 Q176.598 1536.89 178.404 1533.35 Q180.232 1529.78 180.232 1522.67 Q180.232 1515.55 178.404 1512 Q176.598 1508.44 172.964 1508.44 M172.964 1504.73 Q178.774 1504.73 181.83 1509.34 Q184.908 1513.92 184.908 1522.67 Q184.908 1531.4 181.83 1536.01 Q178.774 1540.59 172.964 1540.59 Q167.154 1540.59 164.075 1536.01 Q161.02 1531.4 161.02 1522.67 Q161.02 1513.92 164.075 1509.34 Q167.154 1504.73 172.964 1504.73 Z\" fill=\"#000000\" fill-rule=\"evenodd\" fill-opacity=\"1\" /><path clip-path=\"url(#clip880)\" d=\"M 0 0 M683.144 1525.04 L695.62 1525.04 L695.62 1528.83 L683.144 1528.83 L683.144 1525.04 Z\" fill=\"#000000\" fill-rule=\"evenodd\" fill-opacity=\"1\" /><path clip-path=\"url(#clip880)\" d=\"M 0 0 M700.736 1505.36 L719.092 1505.36 L719.092 1509.3 L705.018 1509.3 L705.018 1517.77 Q706.037 1517.42 707.055 1517.26 Q708.074 1517.07 709.092 1517.07 Q714.88 1517.07 718.259 1520.24 Q721.639 1523.42 721.639 1528.83 Q721.639 1534.41 718.167 1537.51 Q714.694 1540.59 708.375 1540.59 Q706.199 1540.59 703.93 1540.22 Q701.685 1539.85 699.278 1539.11 L699.278 1534.41 Q701.361 1535.54 703.583 1536.1 Q705.805 1536.66 708.282 1536.66 Q712.287 1536.66 714.625 1534.55 Q716.963 1532.44 716.963 1528.83 Q716.963 1525.22 714.625 1523.11 Q712.287 1521.01 708.282 1521.01 Q706.407 1521.01 704.532 1521.42 Q702.68 1521.84 700.736 1522.72 L700.736 1505.36 Z\" fill=\"#000000\" fill-rule=\"evenodd\" fill-opacity=\"1\" /><path clip-path=\"url(#clip880)\" d=\"M 0 0 M1252.51 1508.44 Q1248.9 1508.44 1247.07 1512 Q1245.27 1515.55 1245.27 1522.67 Q1245.27 1529.78 1247.07 1533.35 Q1248.9 1536.89 1252.51 1536.89 Q1256.15 1536.89 1257.95 1533.35 Q1259.78 1529.78 1259.78 1522.67 Q1259.78 1515.55 1257.95 1512 Q1256.15 1508.44 1252.51 1508.44 M1252.51 1504.73 Q1258.32 1504.73 1261.38 1509.34 Q1264.46 1513.92 1264.46 1522.67 Q1264.46 1531.4 1261.38 1536.01 Q1258.32 1540.59 1252.51 1540.59 Q1246.7 1540.59 1243.62 1536.01 Q1240.57 1531.4 1240.57 1522.67 Q1240.57 1513.92 1243.62 1509.34 Q1246.7 1504.73 1252.51 1504.73 Z\" fill=\"#000000\" fill-rule=\"evenodd\" fill-opacity=\"1\" /><path clip-path=\"url(#clip880)\" d=\"M 0 0 M1792.91 1505.36 L1811.27 1505.36 L1811.27 1509.3 L1797.19 1509.3 L1797.19 1517.77 Q1798.21 1517.42 1799.23 1517.26 Q1800.25 1517.07 1801.27 1517.07 Q1807.06 1517.07 1810.44 1520.24 Q1813.81 1523.42 1813.81 1528.83 Q1813.81 1534.41 1810.34 1537.51 Q1806.87 1540.59 1800.55 1540.59 Q1798.38 1540.59 1796.11 1540.22 Q1793.86 1539.85 1791.45 1539.11 L1791.45 1534.41 Q1793.54 1535.54 1795.76 1536.1 Q1797.98 1536.66 1800.46 1536.66 Q1804.46 1536.66 1806.8 1534.55 Q1809.14 1532.44 1809.14 1528.83 Q1809.14 1525.22 1806.8 1523.11 Q1804.46 1521.01 1800.46 1521.01 Q1798.58 1521.01 1796.71 1521.42 Q1794.86 1521.84 1792.91 1522.72 L1792.91 1505.36 Z\" fill=\"#000000\" fill-rule=\"evenodd\" fill-opacity=\"1\" /><path clip-path=\"url(#clip880)\" d=\"M 0 0 M2329.63 1535.98 L2337.27 1535.98 L2337.27 1509.62 L2328.96 1511.29 L2328.96 1507.03 L2337.22 1505.36 L2341.9 1505.36 L2341.9 1535.98 L2349.54 1535.98 L2349.54 1539.92 L2329.63 1539.92 L2329.63 1535.98 Z\" fill=\"#000000\" fill-rule=\"evenodd\" fill-opacity=\"1\" /><path clip-path=\"url(#clip880)\" d=\"M 0 0 M2364.61 1508.44 Q2361 1508.44 2359.17 1512 Q2357.36 1515.55 2357.36 1522.67 Q2357.36 1529.78 2359.17 1533.35 Q2361 1536.89 2364.61 1536.89 Q2368.24 1536.89 2370.05 1533.35 Q2371.88 1529.78 2371.88 1522.67 Q2371.88 1515.55 2370.05 1512 Q2368.24 1508.44 2364.61 1508.44 M2364.61 1504.73 Q2370.42 1504.73 2373.47 1509.34 Q2376.55 1513.92 2376.55 1522.67 Q2376.55 1531.4 2373.47 1536.01 Q2370.42 1540.59 2364.61 1540.59 Q2358.8 1540.59 2355.72 1536.01 Q2352.66 1531.4 2352.66 1522.67 Q2352.66 1513.92 2355.72 1509.34 Q2358.8 1504.73 2364.61 1504.73 Z\" fill=\"#000000\" fill-rule=\"evenodd\" fill-opacity=\"1\" /><path clip-path=\"url(#clip880)\" d=\"M 0 0 M62.9921 1488.84 L75.4689 1488.84 L75.4689 1492.64 L62.9921 1492.64 L62.9921 1488.84 Z\" fill=\"#000000\" fill-rule=\"evenodd\" fill-opacity=\"1\" /><path clip-path=\"url(#clip880)\" d=\"M 0 0 M81.3485 1499.79 L88.9874 1499.79 L88.9874 1473.43 L80.6772 1475.09 L80.6772 1470.83 L88.9411 1469.17 L93.617 1469.17 L93.617 1499.79 L101.256 1499.79 L101.256 1503.73 L81.3485 1503.73 L81.3485 1499.79 Z\" fill=\"#000000\" fill-rule=\"evenodd\" fill-opacity=\"1\" /><path clip-path=\"url(#clip880)\" d=\"M 0 0 M116.325 1472.25 Q112.714 1472.25 110.885 1475.81 Q109.08 1479.35 109.08 1486.48 Q109.08 1493.59 110.885 1497.15 Q112.714 1500.7 116.325 1500.7 Q119.959 1500.7 121.765 1497.15 Q123.594 1493.59 123.594 1486.48 Q123.594 1479.35 121.765 1475.81 Q119.959 1472.25 116.325 1472.25 M116.325 1468.54 Q122.135 1468.54 125.191 1473.15 Q128.27 1477.73 128.27 1486.48 Q128.27 1495.21 125.191 1499.82 Q122.135 1504.4 116.325 1504.4 Q110.515 1504.4 107.436 1499.82 Q104.381 1495.21 104.381 1486.48 Q104.381 1477.73 107.436 1473.15 Q110.515 1468.54 116.325 1468.54 Z\" fill=\"#000000\" fill-rule=\"evenodd\" fill-opacity=\"1\" /><path clip-path=\"url(#clip880)\" d=\"M 0 0 M89.7744 1129.04 L102.251 1129.04 L102.251 1132.84 L89.7744 1132.84 L89.7744 1129.04 Z\" fill=\"#000000\" fill-rule=\"evenodd\" fill-opacity=\"1\" /><path clip-path=\"url(#clip880)\" d=\"M 0 0 M107.367 1109.37 L125.723 1109.37 L125.723 1113.3 L111.649 1113.3 L111.649 1121.77 Q112.668 1121.43 113.686 1121.27 Q114.705 1121.08 115.723 1121.08 Q121.51 1121.08 124.89 1124.25 Q128.27 1127.42 128.27 1132.84 Q128.27 1138.42 124.797 1141.52 Q121.325 1144.6 115.006 1144.6 Q112.83 1144.6 110.561 1144.23 Q108.316 1143.86 105.909 1143.12 L105.909 1138.42 Q107.992 1139.55 110.214 1140.11 Q112.436 1140.66 114.913 1140.66 Q118.918 1140.66 121.256 1138.56 Q123.594 1136.45 123.594 1132.84 Q123.594 1129.23 121.256 1127.12 Q118.918 1125.01 114.913 1125.01 Q113.038 1125.01 111.163 1125.43 Q109.311 1125.85 107.367 1126.73 L107.367 1109.37 Z\" fill=\"#000000\" fill-rule=\"evenodd\" fill-opacity=\"1\" /><path clip-path=\"url(#clip880)\" d=\"M 0 0 M116.325 752.645 Q112.714 752.645 110.885 756.209 Q109.08 759.751 109.08 766.881 Q109.08 773.987 110.885 777.552 Q112.714 781.094 116.325 781.094 Q119.959 781.094 121.765 777.552 Q123.594 773.987 123.594 766.881 Q123.594 759.751 121.765 756.209 Q119.959 752.645 116.325 752.645 M116.325 748.941 Q122.135 748.941 125.191 753.547 Q128.27 758.131 128.27 766.881 Q128.27 775.608 125.191 780.214 Q122.135 784.797 116.325 784.797 Q110.515 784.797 107.436 780.214 Q104.381 775.608 104.381 766.881 Q104.381 758.131 107.436 753.547 Q110.515 748.941 116.325 748.941 Z\" fill=\"#000000\" fill-rule=\"evenodd\" fill-opacity=\"1\" /><path clip-path=\"url(#clip880)\" d=\"M 0 0 M107.367 389.765 L125.723 389.765 L125.723 393.7 L111.649 393.7 L111.649 402.172 Q112.668 401.825 113.686 401.663 Q114.705 401.478 115.723 401.478 Q121.51 401.478 124.89 404.649 Q128.27 407.82 128.27 413.237 Q128.27 418.816 124.797 421.918 Q121.325 424.996 115.006 424.996 Q112.83 424.996 110.561 424.626 Q108.316 424.256 105.909 423.515 L105.909 418.816 Q107.992 419.95 110.214 420.506 Q112.436 421.061 114.913 421.061 Q118.918 421.061 121.256 418.955 Q123.594 416.848 123.594 413.237 Q123.594 409.626 121.256 407.52 Q118.918 405.413 114.913 405.413 Q113.038 405.413 111.163 405.83 Q109.311 406.246 107.367 407.126 L107.367 389.765 Z\" fill=\"#000000\" fill-rule=\"evenodd\" fill-opacity=\"1\" /><path clip-path=\"url(#clip880)\" d=\"M 0 0 M81.3485 60.5889 L88.9874 60.5889 L88.9874 34.2233 L80.6772 35.89 L80.6772 31.6308 L88.9411 29.9641 L93.617 29.9641 L93.617 60.5889 L101.256 60.5889 L101.256 64.5241 L81.3485 64.5241 L81.3485 60.5889 Z\" fill=\"#000000\" fill-rule=\"evenodd\" fill-opacity=\"1\" /><path clip-path=\"url(#clip880)\" d=\"M 0 0 M116.325 33.0428 Q112.714 33.0428 110.885 36.6076 Q109.08 40.1492 109.08 47.2788 Q109.08 54.3853 110.885 57.9501 Q112.714 61.4917 116.325 61.4917 Q119.959 61.4917 121.765 57.9501 Q123.594 54.3853 123.594 47.2788 Q123.594 40.1492 121.765 36.6076 Q119.959 33.0428 116.325 33.0428 M116.325 29.3391 Q122.135 29.3391 125.191 33.9456 Q128.27 38.5289 128.27 47.2788 Q128.27 56.0056 125.191 60.6121 Q122.135 65.1954 116.325 65.1954 Q110.515 65.1954 107.436 60.6121 Q104.381 56.0056 104.381 47.2788 Q104.381 38.5289 107.436 33.9456 Q110.515 29.3391 116.325 29.3391 Z\" fill=\"#000000\" fill-rule=\"evenodd\" fill-opacity=\"1\" /><circle clip-path=\"url(#clip882)\" cx=\"1252.51\" cy=\"766.846\" r=\"14\" fill=\"#009af9\" fill-rule=\"evenodd\" fill-opacity=\"1\" stroke=\"#000000\" stroke-opacity=\"1\" stroke-width=\"3.2\"/>\n<circle clip-path=\"url(#clip882)\" cx=\"1142.49\" cy=\"838.806\" r=\"14\" fill=\"#009af9\" fill-rule=\"evenodd\" fill-opacity=\"1\" stroke=\"#000000\" stroke-opacity=\"1\" stroke-width=\"3.2\"/>\n<circle clip-path=\"url(#clip882)\" cx=\"1032.46\" cy=\"766.846\" r=\"14\" fill=\"#009af9\" fill-rule=\"evenodd\" fill-opacity=\"1\" stroke=\"#000000\" stroke-opacity=\"1\" stroke-width=\"3.2\"/>\n<circle clip-path=\"url(#clip882)\" cx=\"922.44\" cy=\"694.886\" r=\"14\" fill=\"#009af9\" fill-rule=\"evenodd\" fill-opacity=\"1\" stroke=\"#000000\" stroke-opacity=\"1\" stroke-width=\"3.2\"/>\n<circle clip-path=\"url(#clip882)\" cx=\"1032.46\" cy=\"622.926\" r=\"14\" fill=\"#009af9\" fill-rule=\"evenodd\" fill-opacity=\"1\" stroke=\"#000000\" stroke-opacity=\"1\" stroke-width=\"3.2\"/>\n<path clip-path=\"url(#clip880)\" d=\"\nM1989.74 251.724 L2280.76 251.724 L2280.76 130.764 L1989.74 130.764  Z\n  \" fill=\"#ffffff\" fill-rule=\"evenodd\" fill-opacity=\"1\"/>\n<polyline clip-path=\"url(#clip880)\" style=\"stroke:#000000; stroke-width:4; stroke-opacity:1; fill:none\" points=\"\n  1989.74,251.724 2280.76,251.724 2280.76,130.764 1989.74,130.764 1989.74,251.724 \n  \"/>\n<circle clip-path=\"url(#clip880)\" cx=\"2097.74\" cy=\"191.244\" r=\"23\" fill=\"#009af9\" fill-rule=\"evenodd\" fill-opacity=\"1\" stroke=\"#000000\" stroke-opacity=\"1\" stroke-width=\"5.12\"/>\n<path clip-path=\"url(#clip880)\" d=\"M 0 0 M2195.58 210.931 Q2193.77 215.561 2192.06 216.973 Q2190.35 218.385 2187.48 218.385 L2184.08 218.385 L2184.08 214.82 L2186.58 214.82 Q2188.33 214.82 2189.31 213.987 Q2190.28 213.154 2191.46 210.052 L2192.22 208.107 L2181.74 182.598 L2186.25 182.598 L2194.35 202.876 L2202.46 182.598 L2206.97 182.598 L2195.58 210.931 Z\" fill=\"#000000\" fill-rule=\"evenodd\" fill-opacity=\"1\" /><path clip-path=\"url(#clip880)\" d=\"M 0 0 M2212.85 204.589 L2220.49 204.589 L2220.49 178.223 L2212.18 179.89 L2212.18 175.631 L2220.44 173.964 L2225.12 173.964 L2225.12 204.589 L2232.76 204.589 L2232.76 208.524 L2212.85 208.524 L2212.85 204.589 Z\" fill=\"#000000\" fill-rule=\"evenodd\" fill-opacity=\"1\" /></svg>\n"
               },
               "type": "node"
              }
             ],
             "instanceArgs": {
              "namespace": "html",
              "tag": "div"
             },
             "nodeType": "DOM",
             "props": {
              "className": "interact-flex-row interact-widget"
             },
             "type": "node"
            }
           }
          },
          "systemjs_options": null
         },
         "nodeType": "Scope",
         "props": {},
         "type": "node"
        }
       ],
       "instanceArgs": {
        "namespace": "html",
        "tag": "div"
       },
       "nodeType": "DOM",
       "props": {},
       "type": "node"
      },
      "text/html": [
       "<div\n",
       "    class=\"webio-mountpoint\"\n",
       "    data-webio-mountpoint=\"1343639448351911217\"\n",
       ">\n",
       "    <script>\n",
       "    if (window.require && require.defined && require.defined(\"nbextensions/webio-jupyter-notebook\")) {\n",
       "        console.log(\"Jupyter WebIO extension detected, not mounting.\");\n",
       "    } else if (window.WebIO) {\n",
       "        WebIO.mount(\n",
       "            document.querySelector('[data-webio-mountpoint=\"1343639448351911217\"]'),\n",
       "            {\"props\":{},\"nodeType\":\"DOM\",\"type\":\"node\",\"instanceArgs\":{\"namespace\":\"html\",\"tag\":\"div\"},\"children\":[{\"props\":{\"className\":\"field interact-widget\"},\"nodeType\":\"DOM\",\"type\":\"node\",\"instanceArgs\":{\"namespace\":\"html\",\"tag\":\"div\"},\"children\":[{\"props\":{},\"nodeType\":\"Scope\",\"type\":\"node\",\"instanceArgs\":{\"imports\":{\"data\":[{\"name\":\"knockout\",\"type\":\"js\",\"url\":\"\\/assetserver\\/2326d6b34977b8e04829463a575d1372afbef7fb-knockout.js\"},{\"name\":\"knockout_punches\",\"type\":\"js\",\"url\":\"\\/assetserver\\/bd9b3d6b4334db0c94ca6aaca7469b0af8ae6fc1-knockout_punches.js\"},{\"name\":null,\"type\":\"js\",\"url\":\"\\/assetserver\\/76777801d72192034aca61bcf4b4e0ac8394ec00-all.js\"},{\"name\":null,\"type\":\"css\",\"url\":\"\\/assetserver\\/3d4e1bec5fa2352c3864150bc24804c2bea1a521-style.css\"},{\"name\":null,\"type\":\"css\",\"url\":\"\\/assetserver\\/d390ab4d589f221c90029963f124908ed3c29f3e-bulma_confined.min.css\"}],\"type\":\"async_block\"},\"id\":\"1955834893786511744\",\"handlers\":{\"changes\":[\"(function (val){return (val!=this.model[\\\"changes\\\"]()) ? (this.valueFromJulia[\\\"changes\\\"]=true, this.model[\\\"changes\\\"](val)) : undefined})\"],\"index\":[\"(function (val){return (val!=this.model[\\\"index\\\"]()) ? (this.valueFromJulia[\\\"index\\\"]=true, this.model[\\\"index\\\"](val)) : undefined})\"]},\"systemjs_options\":null,\"mount_callbacks\":[\"function () {\\n    var handler = (function (ko, koPunches) {\\n    ko.punches.enableAll();\\n    ko.bindingHandlers.numericValue = {\\n        init: function(element, valueAccessor, allBindings, data, context) {\\n            var stringified = ko.observable(ko.unwrap(valueAccessor()));\\n            stringified.subscribe(function(value) {\\n                var val = parseFloat(value);\\n                if (!isNaN(val)) {\\n                    valueAccessor()(val);\\n                }\\n            });\\n            valueAccessor().subscribe(function(value) {\\n                var str = JSON.stringify(value);\\n                if ((str == \\\"0\\\") && ([\\\"-0\\\", \\\"-0.\\\"].indexOf(stringified()) >= 0))\\n                     return;\\n                 if ([\\\"null\\\", \\\"\\\"].indexOf(str) >= 0)\\n                     return;\\n                stringified(str);\\n            });\\n            ko.applyBindingsToNode(\\n                element,\\n                {\\n                    value: stringified,\\n                    valueUpdate: allBindings.get('valueUpdate'),\\n                },\\n                context,\\n            );\\n        }\\n    };\\n    var json_data = {\\\"formatted_vals\\\":[\\\"1\\\",\\\"2\\\",\\\"3\\\",\\\"4\\\",\\\"5\\\",\\\"6\\\",\\\"7\\\",\\\"8\\\",\\\"9\\\",\\\"10\\\"],\\\"changes\\\":WebIO.getval({\\\"name\\\":\\\"changes\\\",\\\"scope\\\":\\\"1955834893786511744\\\",\\\"id\\\":\\\"5465237600612397950\\\",\\\"type\\\":\\\"observable\\\"}),\\\"index\\\":WebIO.getval({\\\"name\\\":\\\"index\\\",\\\"scope\\\":\\\"1955834893786511744\\\",\\\"id\\\":\\\"18147437632514993004\\\",\\\"type\\\":\\\"observable\\\"})};\\n    var self = this;\\n    function AppViewModel() {\\n        for (var key in json_data) {\\n            var el = json_data[key];\\n            this[key] = Array.isArray(el) ? ko.observableArray(el) : ko.observable(el);\\n        }\\n        \\n        [this[\\\"formatted_val\\\"]=ko.computed(    function(){\\n        return this.formatted_vals()[parseInt(this.index())-(1)];\\n    }\\n,this)]\\n        [this[\\\"changes\\\"].subscribe((function (val){!(this.valueFromJulia[\\\"changes\\\"]) ? (WebIO.setval({\\\"name\\\":\\\"changes\\\",\\\"scope\\\":\\\"1955834893786511744\\\",\\\"id\\\":\\\"5465237600612397950\\\",\\\"type\\\":\\\"observable\\\"},val)) : undefined; return this.valueFromJulia[\\\"changes\\\"]=false}),self),this[\\\"index\\\"].subscribe((function (val){!(this.valueFromJulia[\\\"index\\\"]) ? (WebIO.setval({\\\"name\\\":\\\"index\\\",\\\"scope\\\":\\\"1955834893786511744\\\",\\\"id\\\":\\\"18147437632514993004\\\",\\\"type\\\":\\\"observable\\\"},val)) : undefined; return this.valueFromJulia[\\\"index\\\"]=false}),self)]\\n        \\n    }\\n    self.model = new AppViewModel();\\n    self.valueFromJulia = {};\\n    for (var key in json_data) {\\n        self.valueFromJulia[key] = false;\\n    }\\n    ko.applyBindings(self.model, self.dom);\\n}\\n);\\n    (WebIO.importBlock({\\\"data\\\":[{\\\"name\\\":\\\"knockout\\\",\\\"type\\\":\\\"js\\\",\\\"url\\\":\\\"\\/assetserver\\/2326d6b34977b8e04829463a575d1372afbef7fb-knockout.js\\\"},{\\\"name\\\":\\\"knockout_punches\\\",\\\"type\\\":\\\"js\\\",\\\"url\\\":\\\"\\/assetserver\\/bd9b3d6b4334db0c94ca6aaca7469b0af8ae6fc1-knockout_punches.js\\\"}],\\\"type\\\":\\\"async_block\\\"})).then((imports) => handler.apply(this, imports));\\n}\\n\"],\"observables\":{\"changes\":{\"sync\":false,\"id\":\"5465237600612397950\",\"value\":0},\"index\":{\"sync\":true,\"id\":\"18147437632514993004\",\"value\":5}}},\"children\":[{\"props\":{\"className\":\"interact-flex-row interact-widget\"},\"nodeType\":\"DOM\",\"type\":\"node\",\"instanceArgs\":{\"namespace\":\"html\",\"tag\":\"div\"},\"children\":[{\"props\":{\"className\":\"interact-flex-row-left\"},\"nodeType\":\"DOM\",\"type\":\"node\",\"instanceArgs\":{\"namespace\":\"html\",\"tag\":\"div\"},\"children\":[{\"props\":{\"className\":\"interact \",\"style\":{\"padding\":\"5px 10px 0px 10px\"}},\"nodeType\":\"DOM\",\"type\":\"node\",\"instanceArgs\":{\"namespace\":\"html\",\"tag\":\"label\"},\"children\":[\"t\"]}]},{\"props\":{\"className\":\"interact-flex-row-center\"},\"nodeType\":\"DOM\",\"type\":\"node\",\"instanceArgs\":{\"namespace\":\"html\",\"tag\":\"div\"},\"children\":[{\"props\":{\"max\":10,\"min\":1,\"attributes\":{\"type\":\"range\",\"data-bind\":\"numericValue: index, valueUpdate: 'input', event: {change: function (){this.changes(this.changes()+1)}}\",\"orient\":\"horizontal\"},\"step\":1,\"className\":\"slider slider is-fullwidth\",\"style\":{}},\"nodeType\":\"DOM\",\"type\":\"node\",\"instanceArgs\":{\"namespace\":\"html\",\"tag\":\"input\"},\"children\":[]}]},{\"props\":{\"className\":\"interact-flex-row-right\"},\"nodeType\":\"DOM\",\"type\":\"node\",\"instanceArgs\":{\"namespace\":\"html\",\"tag\":\"div\"},\"children\":[{\"props\":{\"attributes\":{\"data-bind\":\"text: formatted_val\"}},\"nodeType\":\"DOM\",\"type\":\"node\",\"instanceArgs\":{\"namespace\":\"html\",\"tag\":\"p\"},\"children\":[]}]}]}]}]},{\"props\":{},\"nodeType\":\"Scope\",\"type\":\"node\",\"instanceArgs\":{\"imports\":{\"data\":[],\"type\":\"async_block\"},\"id\":\"16879002943203555574\",\"handlers\":{},\"systemjs_options\":null,\"mount_callbacks\":[],\"observables\":{\"obs-node\":{\"sync\":false,\"id\":\"10593854430345226336\",\"value\":{\"props\":{\"className\":\"interact-flex-row interact-widget\"},\"nodeType\":\"DOM\",\"type\":\"node\",\"instanceArgs\":{\"namespace\":\"html\",\"tag\":\"div\"},\"children\":[{\"props\":{\"setInnerHtml\":\"<?xml version=\\\"1.0\\\" encoding=\\\"utf-8\\\"?>\\n<svg xmlns=\\\"http:\\/\\/www.w3.org\\/2000\\/svg\\\" xmlns:xlink=\\\"http:\\/\\/www.w3.org\\/1999\\/xlink\\\" width=\\\"600\\\" height=\\\"400\\\" viewBox=\\\"0 0 2400 1600\\\">\\n<defs>\\n  <clipPath id=\\\"clip840\\\">\\n    <rect x=\\\"0\\\" y=\\\"0\\\" width=\\\"2400\\\" height=\\\"1600\\\"\\/>\\n  <\\/clipPath>\\n<\\/defs>\\n<path clip-path=\\\"url(#clip840)\\\" d=\\\"\\nM0 1600 L2400 1600 L2400 0 L0 0  Z\\n  \\\" fill=\\\"#ffffff\\\" fill-rule=\\\"evenodd\\\" fill-opacity=\\\"1\\\"\\/>\\n<defs>\\n  <clipPath id=\\\"clip841\\\">\\n    <rect x=\\\"480\\\" y=\\\"0\\\" width=\\\"1681\\\" height=\\\"1600\\\"\\/>\\n  <\\/clipPath>\\n<\\/defs>\\n<path clip-path=\\\"url(#clip840)\\\" d=\\\"\\nM152.27 1486.45 L2352.76 1486.45 L2352.76 47.2441 L152.27 47.2441  Z\\n  \\\" fill=\\\"#ffffff\\\" fill-rule=\\\"evenodd\\\" fill-opacity=\\\"1\\\"\\/>\\n<defs>\\n  <clipPath id=\\\"clip842\\\">\\n    <rect x=\\\"152\\\" y=\\\"47\\\" width=\\\"2201\\\" height=\\\"1440\\\"\\/>\\n  <\\/clipPath>\\n<\\/defs>\\n<polyline clip-path=\\\"url(#clip842)\\\" style=\\\"stroke:#000000; stroke-width:2; stroke-opacity:0.1; fill:none\\\" points=\\\"\\n  152.27,1486.45 152.27,47.2441 \\n  \\\"\\/>\\n<polyline clip-path=\\\"url(#clip842)\\\" style=\\\"stroke:#000000; stroke-width:2; stroke-opacity:0.1; fill:none\\\" points=\\\"\\n  702.391,1486.45 702.391,47.2441 \\n  \\\"\\/>\\n<polyline clip-path=\\\"url(#clip842)\\\" style=\\\"stroke:#000000; stroke-width:2; stroke-opacity:0.1; fill:none\\\" points=\\\"\\n  1252.51,1486.45 1252.51,47.2441 \\n  \\\"\\/>\\n<polyline clip-path=\\\"url(#clip842)\\\" style=\\\"stroke:#000000; stroke-width:2; stroke-opacity:0.1; fill:none\\\" points=\\\"\\n  1802.63,1486.45 1802.63,47.2441 \\n  \\\"\\/>\\n<polyline clip-path=\\\"url(#clip842)\\\" style=\\\"stroke:#000000; stroke-width:2; stroke-opacity:0.1; fill:none\\\" points=\\\"\\n  2352.76,1486.45 2352.76,47.2441 \\n  \\\"\\/>\\n<polyline clip-path=\\\"url(#clip842)\\\" style=\\\"stroke:#000000; stroke-width:2; stroke-opacity:0.1; fill:none\\\" points=\\\"\\n  152.27,1486.45 2352.76,1486.45 \\n  \\\"\\/>\\n<polyline clip-path=\\\"url(#clip842)\\\" style=\\\"stroke:#000000; stroke-width:2; stroke-opacity:0.1; fill:none\\\" points=\\\"\\n  152.27,1126.65 2352.76,1126.65 \\n  \\\"\\/>\\n<polyline clip-path=\\\"url(#clip842)\\\" style=\\\"stroke:#000000; stroke-width:2; stroke-opacity:0.1; fill:none\\\" points=\\\"\\n  152.27,766.846 2352.76,766.846 \\n  \\\"\\/>\\n<polyline clip-path=\\\"url(#clip842)\\\" style=\\\"stroke:#000000; stroke-width:2; stroke-opacity:0.1; fill:none\\\" points=\\\"\\n  152.27,407.045 2352.76,407.045 \\n  \\\"\\/>\\n<polyline clip-path=\\\"url(#clip842)\\\" style=\\\"stroke:#000000; stroke-width:2; stroke-opacity:0.1; fill:none\\\" points=\\\"\\n  152.27,47.2441 2352.76,47.2441 \\n  \\\"\\/>\\n<polyline clip-path=\\\"url(#clip840)\\\" style=\\\"stroke:#000000; stroke-width:4; stroke-opacity:1; fill:none\\\" points=\\\"\\n  152.27,1486.45 2352.76,1486.45 \\n  \\\"\\/>\\n<polyline clip-path=\\\"url(#clip840)\\\" style=\\\"stroke:#000000; stroke-width:4; stroke-opacity:1; fill:none\\\" points=\\\"\\n  152.27,1486.45 152.27,47.2441 \\n  \\\"\\/>\\n<polyline clip-path=\\\"url(#clip840)\\\" style=\\\"stroke:#000000; stroke-width:4; stroke-opacity:1; fill:none\\\" points=\\\"\\n  152.27,1486.45 152.27,1469.18 \\n  \\\"\\/>\\n<polyline clip-path=\\\"url(#clip840)\\\" style=\\\"stroke:#000000; stroke-width:4; stroke-opacity:1; fill:none\\\" points=\\\"\\n  702.391,1486.45 702.391,1469.18 \\n  \\\"\\/>\\n<polyline clip-path=\\\"url(#clip840)\\\" style=\\\"stroke:#000000; stroke-width:4; stroke-opacity:1; fill:none\\\" points=\\\"\\n  1252.51,1486.45 1252.51,1469.18 \\n  \\\"\\/>\\n<polyline clip-path=\\\"url(#clip840)\\\" style=\\\"stroke:#000000; stroke-width:4; stroke-opacity:1; fill:none\\\" points=\\\"\\n  1802.63,1486.45 1802.63,1469.18 \\n  \\\"\\/>\\n<polyline clip-path=\\\"url(#clip840)\\\" style=\\\"stroke:#000000; stroke-width:4; stroke-opacity:1; fill:none\\\" points=\\\"\\n  2352.76,1486.45 2352.76,1469.18 \\n  \\\"\\/>\\n<polyline clip-path=\\\"url(#clip840)\\\" style=\\\"stroke:#000000; stroke-width:4; stroke-opacity:1; fill:none\\\" points=\\\"\\n  152.27,1486.45 178.675,1486.45 \\n  \\\"\\/>\\n<polyline clip-path=\\\"url(#clip840)\\\" style=\\\"stroke:#000000; stroke-width:4; stroke-opacity:1; fill:none\\\" points=\\\"\\n  152.27,1126.65 178.675,1126.65 \\n  \\\"\\/>\\n<polyline clip-path=\\\"url(#clip840)\\\" style=\\\"stroke:#000000; stroke-width:4; stroke-opacity:1; fill:none\\\" points=\\\"\\n  152.27,766.846 178.675,766.846 \\n  \\\"\\/>\\n<polyline clip-path=\\\"url(#clip840)\\\" style=\\\"stroke:#000000; stroke-width:4; stroke-opacity:1; fill:none\\\" points=\\\"\\n  152.27,407.045 178.675,407.045 \\n  \\\"\\/>\\n<polyline clip-path=\\\"url(#clip840)\\\" style=\\\"stroke:#000000; stroke-width:4; stroke-opacity:1; fill:none\\\" points=\\\"\\n  152.27,47.2441 178.675,47.2441 \\n  \\\"\\/>\\n<path clip-path=\\\"url(#clip840)\\\" d=\\\"M 0 0 M119.631 1525.04 L132.108 1525.04 L132.108 1528.83 L119.631 1528.83 L119.631 1525.04 Z\\\" fill=\\\"#000000\\\" fill-rule=\\\"evenodd\\\" fill-opacity=\\\"1\\\" \\/><path clip-path=\\\"url(#clip840)\\\" d=\\\"M 0 0 M137.987 1535.98 L145.626 1535.98 L145.626 1509.62 L137.316 1511.29 L137.316 1507.03 L145.58 1505.36 L150.256 1505.36 L150.256 1535.98 L157.895 1535.98 L157.895 1539.92 L137.987 1539.92 L137.987 1535.98 Z\\\" fill=\\\"#000000\\\" fill-rule=\\\"evenodd\\\" fill-opacity=\\\"1\\\" \\/><path clip-path=\\\"url(#clip840)\\\" d=\\\"M 0 0 M172.964 1508.44 Q169.353 1508.44 167.524 1512 Q165.719 1515.55 165.719 1522.67 Q165.719 1529.78 167.524 1533.35 Q169.353 1536.89 172.964 1536.89 Q176.598 1536.89 178.404 1533.35 Q180.232 1529.78 180.232 1522.67 Q180.232 1515.55 178.404 1512 Q176.598 1508.44 172.964 1508.44 M172.964 1504.73 Q178.774 1504.73 181.83 1509.34 Q184.908 1513.92 184.908 1522.67 Q184.908 1531.4 181.83 1536.01 Q178.774 1540.59 172.964 1540.59 Q167.154 1540.59 164.075 1536.01 Q161.02 1531.4 161.02 1522.67 Q161.02 1513.92 164.075 1509.34 Q167.154 1504.73 172.964 1504.73 Z\\\" fill=\\\"#000000\\\" fill-rule=\\\"evenodd\\\" fill-opacity=\\\"1\\\" \\/><path clip-path=\\\"url(#clip840)\\\" d=\\\"M 0 0 M683.144 1525.04 L695.62 1525.04 L695.62 1528.83 L683.144 1528.83 L683.144 1525.04 Z\\\" fill=\\\"#000000\\\" fill-rule=\\\"evenodd\\\" fill-opacity=\\\"1\\\" \\/><path clip-path=\\\"url(#clip840)\\\" d=\\\"M 0 0 M700.736 1505.36 L719.092 1505.36 L719.092 1509.3 L705.018 1509.3 L705.018 1517.77 Q706.037 1517.42 707.055 1517.26 Q708.074 1517.07 709.092 1517.07 Q714.88 1517.07 718.259 1520.24 Q721.639 1523.42 721.639 1528.83 Q721.639 1534.41 718.167 1537.51 Q714.694 1540.59 708.375 1540.59 Q706.199 1540.59 703.93 1540.22 Q701.685 1539.85 699.278 1539.11 L699.278 1534.41 Q701.361 1535.54 703.583 1536.1 Q705.805 1536.66 708.282 1536.66 Q712.287 1536.66 714.625 1534.55 Q716.963 1532.44 716.963 1528.83 Q716.963 1525.22 714.625 1523.11 Q712.287 1521.01 708.282 1521.01 Q706.407 1521.01 704.532 1521.42 Q702.68 1521.84 700.736 1522.72 L700.736 1505.36 Z\\\" fill=\\\"#000000\\\" fill-rule=\\\"evenodd\\\" fill-opacity=\\\"1\\\" \\/><path clip-path=\\\"url(#clip840)\\\" d=\\\"M 0 0 M1252.51 1508.44 Q1248.9 1508.44 1247.07 1512 Q1245.27 1515.55 1245.27 1522.67 Q1245.27 1529.78 1247.07 1533.35 Q1248.9 1536.89 1252.51 1536.89 Q1256.15 1536.89 1257.95 1533.35 Q1259.78 1529.78 1259.78 1522.67 Q1259.78 1515.55 1257.95 1512 Q1256.15 1508.44 1252.51 1508.44 M1252.51 1504.73 Q1258.32 1504.73 1261.38 1509.34 Q1264.46 1513.92 1264.46 1522.67 Q1264.46 1531.4 1261.38 1536.01 Q1258.32 1540.59 1252.51 1540.59 Q1246.7 1540.59 1243.62 1536.01 Q1240.57 1531.4 1240.57 1522.67 Q1240.57 1513.92 1243.62 1509.34 Q1246.7 1504.73 1252.51 1504.73 Z\\\" fill=\\\"#000000\\\" fill-rule=\\\"evenodd\\\" fill-opacity=\\\"1\\\" \\/><path clip-path=\\\"url(#clip840)\\\" d=\\\"M 0 0 M1792.91 1505.36 L1811.27 1505.36 L1811.27 1509.3 L1797.19 1509.3 L1797.19 1517.77 Q1798.21 1517.42 1799.23 1517.26 Q1800.25 1517.07 1801.27 1517.07 Q1807.06 1517.07 1810.44 1520.24 Q1813.81 1523.42 1813.81 1528.83 Q1813.81 1534.41 1810.34 1537.51 Q1806.87 1540.59 1800.55 1540.59 Q1798.38 1540.59 1796.11 1540.22 Q1793.86 1539.85 1791.45 1539.11 L1791.45 1534.41 Q1793.54 1535.54 1795.76 1536.1 Q1797.98 1536.66 1800.46 1536.66 Q1804.46 1536.66 1806.8 1534.55 Q1809.14 1532.44 1809.14 1528.83 Q1809.14 1525.22 1806.8 1523.11 Q1804.46 1521.01 1800.46 1521.01 Q1798.58 1521.01 1796.71 1521.42 Q1794.86 1521.84 1792.91 1522.72 L1792.91 1505.36 Z\\\" fill=\\\"#000000\\\" fill-rule=\\\"evenodd\\\" fill-opacity=\\\"1\\\" \\/><path clip-path=\\\"url(#clip840)\\\" d=\\\"M 0 0 M2329.63 1535.98 L2337.27 1535.98 L2337.27 1509.62 L2328.96 1511.29 L2328.96 1507.03 L2337.22 1505.36 L2341.9 1505.36 L2341.9 1535.98 L2349.54 1535.98 L2349.54 1539.92 L2329.63 1539.92 L2329.63 1535.98 Z\\\" fill=\\\"#000000\\\" fill-rule=\\\"evenodd\\\" fill-opacity=\\\"1\\\" \\/><path clip-path=\\\"url(#clip840)\\\" d=\\\"M 0 0 M2364.61 1508.44 Q2361 1508.44 2359.17 1512 Q2357.36 1515.55 2357.36 1522.67 Q2357.36 1529.78 2359.17 1533.35 Q2361 1536.89 2364.61 1536.89 Q2368.24 1536.89 2370.05 1533.35 Q2371.88 1529.78 2371.88 1522.67 Q2371.88 1515.55 2370.05 1512 Q2368.24 1508.44 2364.61 1508.44 M2364.61 1504.73 Q2370.42 1504.73 2373.47 1509.34 Q2376.55 1513.92 2376.55 1522.67 Q2376.55 1531.4 2373.47 1536.01 Q2370.42 1540.59 2364.61 1540.59 Q2358.8 1540.59 2355.72 1536.01 Q2352.66 1531.4 2352.66 1522.67 Q2352.66 1513.92 2355.72 1509.34 Q2358.8 1504.73 2364.61 1504.73 Z\\\" fill=\\\"#000000\\\" fill-rule=\\\"evenodd\\\" fill-opacity=\\\"1\\\" \\/><path clip-path=\\\"url(#clip840)\\\" d=\\\"M 0 0 M62.9921 1488.84 L75.4689 1488.84 L75.4689 1492.64 L62.9921 1492.64 L62.9921 1488.84 Z\\\" fill=\\\"#000000\\\" fill-rule=\\\"evenodd\\\" fill-opacity=\\\"1\\\" \\/><path clip-path=\\\"url(#clip840)\\\" d=\\\"M 0 0 M81.3485 1499.79 L88.9874 1499.79 L88.9874 1473.43 L80.6772 1475.09 L80.6772 1470.83 L88.9411 1469.17 L93.617 1469.17 L93.617 1499.79 L101.256 1499.79 L101.256 1503.73 L81.3485 1503.73 L81.3485 1499.79 Z\\\" fill=\\\"#000000\\\" fill-rule=\\\"evenodd\\\" fill-opacity=\\\"1\\\" \\/><path clip-path=\\\"url(#clip840)\\\" d=\\\"M 0 0 M116.325 1472.25 Q112.714 1472.25 110.885 1475.81 Q109.08 1479.35 109.08 1486.48 Q109.08 1493.59 110.885 1497.15 Q112.714 1500.7 116.325 1500.7 Q119.959 1500.7 121.765 1497.15 Q123.594 1493.59 123.594 1486.48 Q123.594 1479.35 121.765 1475.81 Q119.959 1472.25 116.325 1472.25 M116.325 1468.54 Q122.135 1468.54 125.191 1473.15 Q128.27 1477.73 128.27 1486.48 Q128.27 1495.21 125.191 1499.82 Q122.135 1504.4 116.325 1504.4 Q110.515 1504.4 107.436 1499.82 Q104.381 1495.21 104.381 1486.48 Q104.381 1477.73 107.436 1473.15 Q110.515 1468.54 116.325 1468.54 Z\\\" fill=\\\"#000000\\\" fill-rule=\\\"evenodd\\\" fill-opacity=\\\"1\\\" \\/><path clip-path=\\\"url(#clip840)\\\" d=\\\"M 0 0 M89.7744 1129.04 L102.251 1129.04 L102.251 1132.84 L89.7744 1132.84 L89.7744 1129.04 Z\\\" fill=\\\"#000000\\\" fill-rule=\\\"evenodd\\\" fill-opacity=\\\"1\\\" \\/><path clip-path=\\\"url(#clip840)\\\" d=\\\"M 0 0 M107.367 1109.37 L125.723 1109.37 L125.723 1113.3 L111.649 1113.3 L111.649 1121.77 Q112.668 1121.43 113.686 1121.27 Q114.705 1121.08 115.723 1121.08 Q121.51 1121.08 124.89 1124.25 Q128.27 1127.42 128.27 1132.84 Q128.27 1138.42 124.797 1141.52 Q121.325 1144.6 115.006 1144.6 Q112.83 1144.6 110.561 1144.23 Q108.316 1143.86 105.909 1143.12 L105.909 1138.42 Q107.992 1139.55 110.214 1140.11 Q112.436 1140.66 114.913 1140.66 Q118.918 1140.66 121.256 1138.56 Q123.594 1136.45 123.594 1132.84 Q123.594 1129.23 121.256 1127.12 Q118.918 1125.01 114.913 1125.01 Q113.038 1125.01 111.163 1125.43 Q109.311 1125.85 107.367 1126.73 L107.367 1109.37 Z\\\" fill=\\\"#000000\\\" fill-rule=\\\"evenodd\\\" fill-opacity=\\\"1\\\" \\/><path clip-path=\\\"url(#clip840)\\\" d=\\\"M 0 0 M116.325 752.645 Q112.714 752.645 110.885 756.209 Q109.08 759.751 109.08 766.881 Q109.08 773.987 110.885 777.552 Q112.714 781.094 116.325 781.094 Q119.959 781.094 121.765 777.552 Q123.594 773.987 123.594 766.881 Q123.594 759.751 121.765 756.209 Q119.959 752.645 116.325 752.645 M116.325 748.941 Q122.135 748.941 125.191 753.547 Q128.27 758.131 128.27 766.881 Q128.27 775.608 125.191 780.214 Q122.135 784.797 116.325 784.797 Q110.515 784.797 107.436 780.214 Q104.381 775.608 104.381 766.881 Q104.381 758.131 107.436 753.547 Q110.515 748.941 116.325 748.941 Z\\\" fill=\\\"#000000\\\" fill-rule=\\\"evenodd\\\" fill-opacity=\\\"1\\\" \\/><path clip-path=\\\"url(#clip840)\\\" d=\\\"M 0 0 M107.367 389.765 L125.723 389.765 L125.723 393.7 L111.649 393.7 L111.649 402.172 Q112.668 401.825 113.686 401.663 Q114.705 401.478 115.723 401.478 Q121.51 401.478 124.89 404.649 Q128.27 407.82 128.27 413.237 Q128.27 418.816 124.797 421.918 Q121.325 424.996 115.006 424.996 Q112.83 424.996 110.561 424.626 Q108.316 424.256 105.909 423.515 L105.909 418.816 Q107.992 419.95 110.214 420.506 Q112.436 421.061 114.913 421.061 Q118.918 421.061 121.256 418.955 Q123.594 416.848 123.594 413.237 Q123.594 409.626 121.256 407.52 Q118.918 405.413 114.913 405.413 Q113.038 405.413 111.163 405.83 Q109.311 406.246 107.367 407.126 L107.367 389.765 Z\\\" fill=\\\"#000000\\\" fill-rule=\\\"evenodd\\\" fill-opacity=\\\"1\\\" \\/><path clip-path=\\\"url(#clip840)\\\" d=\\\"M 0 0 M81.3485 60.5889 L88.9874 60.5889 L88.9874 34.2233 L80.6772 35.89 L80.6772 31.6308 L88.9411 29.9641 L93.617 29.9641 L93.617 60.5889 L101.256 60.5889 L101.256 64.5241 L81.3485 64.5241 L81.3485 60.5889 Z\\\" fill=\\\"#000000\\\" fill-rule=\\\"evenodd\\\" fill-opacity=\\\"1\\\" \\/><path clip-path=\\\"url(#clip840)\\\" d=\\\"M 0 0 M116.325 33.0428 Q112.714 33.0428 110.885 36.6076 Q109.08 40.1492 109.08 47.2788 Q109.08 54.3853 110.885 57.9501 Q112.714 61.4917 116.325 61.4917 Q119.959 61.4917 121.765 57.9501 Q123.594 54.3853 123.594 47.2788 Q123.594 40.1492 121.765 36.6076 Q119.959 33.0428 116.325 33.0428 M116.325 29.3391 Q122.135 29.3391 125.191 33.9456 Q128.27 38.5289 128.27 47.2788 Q128.27 56.0056 125.191 60.6121 Q122.135 65.1954 116.325 65.1954 Q110.515 65.1954 107.436 60.6121 Q104.381 56.0056 104.381 47.2788 Q104.381 38.5289 107.436 33.9456 Q110.515 29.3391 116.325 29.3391 Z\\\" fill=\\\"#000000\\\" fill-rule=\\\"evenodd\\\" fill-opacity=\\\"1\\\" \\/><circle clip-path=\\\"url(#clip842)\\\" cx=\\\"1252.51\\\" cy=\\\"766.846\\\" r=\\\"14\\\" fill=\\\"#009af9\\\" fill-rule=\\\"evenodd\\\" fill-opacity=\\\"1\\\" stroke=\\\"#000000\\\" stroke-opacity=\\\"1\\\" stroke-width=\\\"3.2\\\"\\/>\\n<circle clip-path=\\\"url(#clip842)\\\" cx=\\\"1142.49\\\" cy=\\\"838.806\\\" r=\\\"14\\\" fill=\\\"#009af9\\\" fill-rule=\\\"evenodd\\\" fill-opacity=\\\"1\\\" stroke=\\\"#000000\\\" stroke-opacity=\\\"1\\\" stroke-width=\\\"3.2\\\"\\/>\\n<circle clip-path=\\\"url(#clip842)\\\" cx=\\\"1032.46\\\" cy=\\\"766.846\\\" r=\\\"14\\\" fill=\\\"#009af9\\\" fill-rule=\\\"evenodd\\\" fill-opacity=\\\"1\\\" stroke=\\\"#000000\\\" stroke-opacity=\\\"1\\\" stroke-width=\\\"3.2\\\"\\/>\\n<circle clip-path=\\\"url(#clip842)\\\" cx=\\\"922.44\\\" cy=\\\"694.886\\\" r=\\\"14\\\" fill=\\\"#009af9\\\" fill-rule=\\\"evenodd\\\" fill-opacity=\\\"1\\\" stroke=\\\"#000000\\\" stroke-opacity=\\\"1\\\" stroke-width=\\\"3.2\\\"\\/>\\n<circle clip-path=\\\"url(#clip842)\\\" cx=\\\"1032.46\\\" cy=\\\"622.926\\\" r=\\\"14\\\" fill=\\\"#009af9\\\" fill-rule=\\\"evenodd\\\" fill-opacity=\\\"1\\\" stroke=\\\"#000000\\\" stroke-opacity=\\\"1\\\" stroke-width=\\\"3.2\\\"\\/>\\n<path clip-path=\\\"url(#clip840)\\\" d=\\\"\\nM1989.74 251.724 L2280.76 251.724 L2280.76 130.764 L1989.74 130.764  Z\\n  \\\" fill=\\\"#ffffff\\\" fill-rule=\\\"evenodd\\\" fill-opacity=\\\"1\\\"\\/>\\n<polyline clip-path=\\\"url(#clip840)\\\" style=\\\"stroke:#000000; stroke-width:4; stroke-opacity:1; fill:none\\\" points=\\\"\\n  1989.74,251.724 2280.76,251.724 2280.76,130.764 1989.74,130.764 1989.74,251.724 \\n  \\\"\\/>\\n<circle clip-path=\\\"url(#clip840)\\\" cx=\\\"2097.74\\\" cy=\\\"191.244\\\" r=\\\"23\\\" fill=\\\"#009af9\\\" fill-rule=\\\"evenodd\\\" fill-opacity=\\\"1\\\" stroke=\\\"#000000\\\" stroke-opacity=\\\"1\\\" stroke-width=\\\"5.12\\\"\\/>\\n<path clip-path=\\\"url(#clip840)\\\" d=\\\"M 0 0 M2195.58 210.931 Q2193.77 215.561 2192.06 216.973 Q2190.35 218.385 2187.48 218.385 L2184.08 218.385 L2184.08 214.82 L2186.58 214.82 Q2188.33 214.82 2189.31 213.987 Q2190.28 213.154 2191.46 210.052 L2192.22 208.107 L2181.74 182.598 L2186.25 182.598 L2194.35 202.876 L2202.46 182.598 L2206.97 182.598 L2195.58 210.931 Z\\\" fill=\\\"#000000\\\" fill-rule=\\\"evenodd\\\" fill-opacity=\\\"1\\\" \\/><path clip-path=\\\"url(#clip840)\\\" d=\\\"M 0 0 M2212.85 204.589 L2220.49 204.589 L2220.49 178.223 L2212.18 179.89 L2212.18 175.631 L2220.44 173.964 L2225.12 173.964 L2225.12 204.589 L2232.76 204.589 L2232.76 208.524 L2212.85 208.524 L2212.85 204.589 Z\\\" fill=\\\"#000000\\\" fill-rule=\\\"evenodd\\\" fill-opacity=\\\"1\\\" \\/><\\/svg>\\n\"},\"nodeType\":\"DOM\",\"type\":\"node\",\"instanceArgs\":{\"namespace\":\"html\",\"tag\":\"div\"},\"children\":[]}]}}}},\"children\":[{\"props\":{},\"nodeType\":\"ObservableNode\",\"type\":\"node\",\"instanceArgs\":{\"id\":\"10593854430345226336\",\"name\":\"obs-node\"},\"children\":[]}]}]},\n",
       "            window,\n",
       "        );\n",
       "    } else {\n",
       "        document\n",
       "            .querySelector('[data-webio-mountpoint=\"1343639448351911217\"]')\n",
       "            .innerHTML = (\n",
       "                '<div style=\"padding: 1em; background-color: #f8d6da; border: 1px solid #f5c6cb\">' +\n",
       "                '<p><strong>WebIO not detected.</strong></p>' +\n",
       "                '<p>Please read ' +\n",
       "                '<a href=\"https://juliagizmos.github.io/WebIO.jl/latest/troubleshooting/not-detected/\" target=\"_blank\">the troubleshooting guide</a> ' +\n",
       "                'for more information on how to resolve this issue.</p>' +\n",
       "                '<p><a href=\"https://juliagizmos.github.io/WebIO.jl/latest/troubleshooting/not-detected/\" target=\"_blank\">https://juliagizmos.github.io/WebIO.jl/latest/troubleshooting/not-detected/</a></p>' +\n",
       "                '</div>'\n",
       "            );\n",
       "    }\n",
       "    </script>\n",
       "</div>\n"
      ],
      "text/plain": [
       "Node{WebIO.DOM}(WebIO.DOM(:html, :div), Any[Node{WebIO.DOM}(WebIO.DOM(:html, :div), Any[Scope(Node{WebIO.DOM}(WebIO.DOM(:html, :div), Any[Node{WebIO.DOM}(WebIO.DOM(:html, :div), Any[Node{WebIO.DOM}(WebIO.DOM(:html, :label), Any[\"t\"], Dict{Symbol,Any}(:className => \"interact \",:style => Dict{Any,Any}(:padding => \"5px 10px 0px 10px\")))], Dict{Symbol,Any}(:className => \"interact-flex-row-left\")), Node{WebIO.DOM}(WebIO.DOM(:html, :div), Any[Node{WebIO.DOM}(WebIO.DOM(:html, :input), Any[], Dict{Symbol,Any}(:max => 10,:min => 1,:attributes => Dict{Any,Any}(:type => \"range\",Symbol(\"data-bind\") => \"numericValue: index, valueUpdate: 'input', event: {change: function (){this.changes(this.changes()+1)}}\",\"orient\" => \"horizontal\"),:step => 1,:className => \"slider slider is-fullwidth\",:style => Dict{Any,Any}()))], Dict{Symbol,Any}(:className => \"interact-flex-row-center\")), Node{WebIO.DOM}(WebIO.DOM(:html, :div), Any[Node{WebIO.DOM}(WebIO.DOM(:html, :p), Any[], Dict{Symbol,Any}(:attributes => Dict(\"data-bind\" => \"text: formatted_val\")))], Dict{Symbol,Any}(:className => \"interact-flex-row-right\"))], Dict{Symbol,Any}(:className => \"interact-flex-row interact-widget\")), Dict{String,Tuple{Observables.AbstractObservable,Union{Nothing, Bool}}}(\"changes\" => (Observable{Int64} with 1 listeners. Value:\n",
       "0, nothing),\"index\" => (Observable{Int64} with 2 listeners. Value:\n",
       "5, nothing)), Set(String[]), nothing, Asset[Asset(\"js\", \"knockout\", \"C:\\\\Users\\\\jscon\\\\.juliapro\\\\JuliaPro_v1.4.2-1\\\\packages\\\\Knockout\\\\IP1uR\\\\src\\\\..\\\\assets\\\\knockout.js\"), Asset(\"js\", \"knockout_punches\", \"C:\\\\Users\\\\jscon\\\\.juliapro\\\\JuliaPro_v1.4.2-1\\\\packages\\\\Knockout\\\\IP1uR\\\\src\\\\..\\\\assets\\\\knockout_punches.js\"), Asset(\"js\", nothing, \"C:\\\\Users\\\\jscon\\\\.juliapro\\\\JuliaPro_v1.4.2-1\\\\packages\\\\InteractBase\\\\sOe2Z\\\\src\\\\..\\\\assets\\\\all.js\"), Asset(\"css\", nothing, \"C:\\\\Users\\\\jscon\\\\.juliapro\\\\JuliaPro_v1.4.2-1\\\\packages\\\\InteractBase\\\\sOe2Z\\\\src\\\\..\\\\assets\\\\style.css\"), Asset(\"css\", nothing, \"C:\\\\Users\\\\jscon\\\\.juliapro\\\\JuliaPro_v1.4.2-1\\\\packages\\\\Interact\\\\SbgIk\\\\src\\\\..\\\\assets\\\\bulma_confined.min.css\")], Dict{Any,Any}(\"changes\" => Any[WebIO.JSString(\"(function (val){return (val!=this.model[\\\"changes\\\"]()) ? (this.valueFromJulia[\\\"changes\\\"]=true, this.model[\\\"changes\\\"](val)) : undefined})\")],\"index\" => Any[WebIO.JSString(\"(function (val){return (val!=this.model[\\\"index\\\"]()) ? (this.valueFromJulia[\\\"index\\\"]=true, this.model[\\\"index\\\"](val)) : undefined})\")]), WebIO.ConnectionPool(Channel{Any}(sz_max:32,sz_curr:0), Set(AbstractConnection[]), Base.GenericCondition{Base.AlwaysLockedST}(Base.InvasiveLinkedList{Task}(Task (runnable) @0x0000000040398010, Task (runnable) @0x0000000040398010), Base.AlwaysLockedST(1))), WebIO.JSString[WebIO.JSString(\"function () {\\n    var handler = (function (ko, koPunches) {\\n    ko.punches.enableAll();\\n    ko.bindingHandlers.numericValue = {\\n        init: function(element, valueAccessor, allBindings, data, context) {\\n            var stringified = ko.observable(ko.unwrap(valueAccessor()));\\n            stringified.subscribe(function(value) {\\n                var val = parseFloat(value);\\n                if (!isNaN(val)) {\\n                    valueAccessor()(val);\\n                }\\n            });\\n            valueAccessor().subscribe(function(value) {\\n                var str = JSON.stringify(value);\\n                if ((str == \\\"0\\\") && ([\\\"-0\\\", \\\"-0.\\\"].indexOf(stringified()) >= 0))\\n                     return;\\n                 if ([\\\"null\\\", \\\"\\\"].indexOf(str) >= 0)\\n                     return;\\n                stringified(str);\\n            });\\n            ko.applyBindingsToNode(\\n                element,\\n                {\\n                    value: stringified,\\n                    valueUpdate: allBindings.get('valueUpdate'),\\n                },\\n                context,\\n            );\\n        }\\n    };\\n    var json_data = {\\\"formatted_vals\\\":[\\\"1\\\",\\\"2\\\",\\\"3\\\",\\\"4\\\",\\\"5\\\",\\\"6\\\",\\\"7\\\",\\\"8\\\",\\\"9\\\",\\\"10\\\"],\\\"changes\\\":WebIO.getval({\\\"name\\\":\\\"changes\\\",\\\"scope\\\":\\\"1955834893786511744\\\",\\\"id\\\":\\\"5465237600612397950\\\",\\\"type\\\":\\\"observable\\\"}),\\\"index\\\":WebIO.getval({\\\"name\\\":\\\"index\\\",\\\"scope\\\":\\\"1955834893786511744\\\",\\\"id\\\":\\\"18147437632514993004\\\",\\\"type\\\":\\\"observable\\\"})};\\n    var self = this;\\n    function AppViewModel() {\\n        for (var key in json_data) {\\n            var el = json_data[key];\\n            this[key] = Array.isArray(el) ? ko.observableArray(el) : ko.observable(el);\\n        }\\n        \\n        [this[\\\"formatted_val\\\"]=ko.computed(    function(){\\n        return this.formatted_vals()[parseInt(this.index())-(1)];\\n    }\\n,this)]\\n        [this[\\\"changes\\\"].subscribe((function (val){!(this.valueFromJulia[\\\"changes\\\"]) ? (WebIO.setval({\\\"name\\\":\\\"changes\\\",\\\"scope\\\":\\\"1955834893786511744\\\",\\\"id\\\":\\\"5465237600612397950\\\",\\\"type\\\":\\\"observable\\\"},val)) : undefined; return this.valueFromJulia[\\\"changes\\\"]=false}),self),this[\\\"index\\\"].subscribe((function (val){!(this.valueFromJulia[\\\"index\\\"]) ? (WebIO.setval({\\\"name\\\":\\\"index\\\",\\\"scope\\\":\\\"1955834893786511744\\\",\\\"id\\\":\\\"18147437632514993004\\\",\\\"type\\\":\\\"observable\\\"},val)) : undefined; return this.valueFromJulia[\\\"index\\\"]=false}),self)]\\n        \\n    }\\n    self.model = new AppViewModel();\\n    self.valueFromJulia = {};\\n    for (var key in json_data) {\\n        self.valueFromJulia[key] = false;\\n    }\\n    ko.applyBindings(self.model, self.dom);\\n}\\n);\\n    (WebIO.importBlock({\\\"data\\\":[{\\\"name\\\":\\\"knockout\\\",\\\"type\\\":\\\"js\\\",\\\"url\\\":\\\"/assetserver/2326d6b34977b8e04829463a575d1372afbef7fb-knockout.js\\\"},{\\\"name\\\":\\\"knockout_punches\\\",\\\"type\\\":\\\"js\\\",\\\"url\\\":\\\"/assetserver/bd9b3d6b4334db0c94ca6aaca7469b0af8ae6fc1-knockout_punches.js\\\"}],\\\"type\\\":\\\"async_block\\\"})).then((imports) => handler.apply(this, imports));\\n}\\n\")])], Dict{Symbol,Any}(:className => \"field interact-widget\")), Observable{Any} with 0 listeners. Value:\n",
       "Node{WebIO.DOM}(WebIO.DOM(:html, :div), Any[Plot{Plots.GRBackend() n=1}], Dict{Symbol,Any}(:className => \"interact-flex-row interact-widget\"))], Dict{Symbol,Any}())"
      ]
     },
     "execution_count": 50,
     "metadata": {
      "application/vnd.webio.node+json": {
       "kernelId": "df9165f3-0bb6-4e57-ade3-e0fe10c52056"
      }
     },
     "output_type": "execute_result"
    }
   ],
   "source": [
    "using Interact\n",
    "\n",
    "@manipulate for t in 1:10\n",
    "    scatter([w2d_traj[i].x for i in 1:t], [w2d_traj[i].y for i in 1:t], xlim = (-10,10), ylim = (-10,10))\n",
    "end"
   ]
  },
  {
   "cell_type": "markdown",
   "metadata": {},
   "source": [
    "#### Exercise"
   ]
  },
  {
   "cell_type": "markdown",
   "metadata": {},
   "source": [
    "1. Make a `CorrelatedWalker1D` type representing a 1-dimensional **correlated random walk**. This is a random walk that remembers its previous step direction &ndash; In the language of computer science, it **has state**, or is **stateful**.\n",
    "The walker takes the following step in the *same* direction with probability $p$, and in the opposite direction with probability $1-p$. The parameter $p$ and the direction must thus be additional fields of the object.\n",
    "\n",
    "\n",
    "2. Calculate and draw some trajectories."
   ]
  },
  {
   "cell_type": "code",
   "execution_count": null,
   "metadata": {},
   "outputs": [],
   "source": []
  },
  {
   "cell_type": "markdown",
   "metadata": {},
   "source": [
    "## Mutable `struct`s"
   ]
  },
  {
   "cell_type": "markdown",
   "metadata": {},
   "source": [
    "An alternative approach is to use *mutable* structs, where the fields *can* be modified. Functions that modify the content of an object have `!` appended to their names by convention:"
   ]
  },
  {
   "cell_type": "code",
   "execution_count": 24,
   "metadata": {},
   "outputs": [],
   "source": [
    "mutable struct MutableWalker1D\n",
    "    x::Int\n",
    "end"
   ]
  },
  {
   "cell_type": "code",
   "execution_count": 25,
   "metadata": {},
   "outputs": [
    {
     "data": {
      "text/plain": [
       "MutableWalker1D(0)"
      ]
     },
     "execution_count": 25,
     "metadata": {},
     "output_type": "execute_result"
    }
   ],
   "source": [
    "w = MutableWalker1D(0)"
   ]
  },
  {
   "cell_type": "code",
   "execution_count": 26,
   "metadata": {},
   "outputs": [
    {
     "data": {
      "text/plain": [
       "1"
      ]
     },
     "execution_count": 26,
     "metadata": {},
     "output_type": "execute_result"
    }
   ],
   "source": [
    "w.x = 1   # now this works!"
   ]
  },
  {
   "cell_type": "code",
   "execution_count": null,
   "metadata": {},
   "outputs": [],
   "source": []
  },
  {
   "cell_type": "markdown",
   "metadata": {},
   "source": [
    "However, it is usually preferable for getting good performance to use immutable `struct`s."
   ]
  },
  {
   "cell_type": "markdown",
   "metadata": {},
   "source": [
    "#### Exercise\n",
    "1. Define a `move!` function that updates the value stored inside the `MutableWalker1D` object. Can you re-use code you have already written?"
   ]
  },
  {
   "cell_type": "code",
   "execution_count": null,
   "metadata": {},
   "outputs": [],
   "source": []
  }
 ],
 "metadata": {
  "@webio": {
   "lastCommId": "8c5d694f18dd4a6ca18901ef10baa19e",
   "lastKernelId": "df9165f3-0bb6-4e57-ade3-e0fe10c52056"
  },
  "kernelspec": {
   "display_name": "Julia 1.4.2",
   "language": "julia",
   "name": "julia-1.4"
  },
  "language_info": {
   "file_extension": ".jl",
   "mimetype": "application/julia",
   "name": "julia",
   "version": "1.4.2"
  }
 },
 "nbformat": 4,
 "nbformat_minor": 4
}
